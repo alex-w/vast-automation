{
 "cells": [
  {
   "cell_type": "markdown",
   "metadata": {},
   "source": [
    "# Visualising FITS and star positions"
   ]
  },
  {
   "cell_type": "markdown",
   "metadata": {},
   "source": [
    "## Import modules"
   ]
  },
  {
   "cell_type": "code",
   "execution_count": 156,
   "metadata": {},
   "outputs": [
    {
     "name": "stdout",
     "output_type": "stream",
     "text": [
      "The autoreload extension is already loaded. To reload it, use:\n",
      "  %reload_ext autoreload\n"
     ]
    }
   ],
   "source": [
    "import requests, math, glob\n",
    "import numpy as np\n",
    "from astropy.stats import mad_std\n",
    "from astropy.io import fits\n",
    "from astropy.wcs import WCS\n",
    "import astropy.units as u\n",
    "from astropy.coordinates import Angle\n",
    "import matplotlib.pyplot as plt\n",
    "from photutils import aperture_photometry, CircularAperture\n",
    "from pathlib import Path\n",
    "warnings.filterwarnings('ignore')\n",
    "\n",
    "import os\n",
    "os.chdir('/home/jovyan/work/src')\n",
    "\n",
    "%load_ext autoreload\n",
    "%autoreload 2"
   ]
  },
  {
   "cell_type": "markdown",
   "metadata": {},
   "source": [
    "## Set reference frame, global vars"
   ]
  },
  {
   "cell_type": "code",
   "execution_count": 178,
   "metadata": {},
   "outputs": [
    {
     "name": "stdout",
     "output_type": "stream",
     "text": [
      "/home/jovyan/work/src\n"
     ]
    }
   ],
   "source": [
    "print(os.getcwd())\n",
    "fits_file = Path('../notebooks/data/V451Dra#15C_000000246.FIT')\n",
    "FITS_FILE= wcs_file\n",
    "\n"
   ]
  },
  {
   "cell_type": "markdown",
   "metadata": {},
   "source": [
    "## Define binning functions"
   ]
  },
  {
   "cell_type": "code",
   "execution_count": 172,
   "metadata": {},
   "outputs": [],
   "source": [
    "from skimage.measure import block_reduce\n",
    "def binning_fast(arr, binning_arr=(2,2)):\n",
    "    return block_reduce(arr, block_size=binning_arr, func=np.sum)\n",
    "\n",
    "def adjust_header(header):\n",
    "    header['XPIXSZ'] = header['XPIXSZ']*2\n",
    "    header['YPIXSZ'] = header['YPIXSZ']*2\n",
    "    header['XBINNING'] = header['XBINNING']*2\n",
    "    header['YBINNING'] = header['YBINNING']*2\n",
    "\n",
    "def binned_filename(fits):\n",
    "    return fits.parent/(fits.stem+'_binned'+fits.suffix)"
   ]
  },
  {
   "cell_type": "code",
   "execution_count": 173,
   "metadata": {},
   "outputs": [],
   "source": [
    "def getWcs(wcs_file):\n",
    "    hdulist = fits.open(wcs_file)\n",
    "    data = hdulist[0].data.astype(float)\n",
    "    header = hdulist[0].header\n",
    "    wcs = WCS(header)\n",
    "    return wcs\n",
    "\n",
    "wcs = getWcs(wcs_file)\n",
    "\n"
   ]
  },
  {
   "cell_type": "code",
   "execution_count": 174,
   "metadata": {},
   "outputs": [
    {
     "name": "stdout",
     "output_type": "stream",
     "text": [
      "WCS Keywords\n",
      "\n",
      "Number of WCS axes: 2\n",
      "CTYPE : ''  ''  \n",
      "CRVAL : 0.0  0.0  \n",
      "CRPIX : 0.0  0.0  \n",
      "PC1_1 PC1_2  : 1.0  0.0  \n",
      "PC2_1 PC2_2  : 0.0  1.0  \n",
      "CDELT : 1.0  1.0  \n",
      "NAXIS : 4788  3194\n"
     ]
    },
    {
     "data": {
      "text/plain": [
       "2"
      ]
     },
     "execution_count": 174,
     "metadata": {},
     "output_type": "execute_result"
    }
   ],
   "source": [
    "print(wcs)\n",
    "wcs.naxis"
   ]
  },
  {
   "cell_type": "markdown",
   "metadata": {},
   "source": [
    "## Get FIT"
   ]
  },
  {
   "cell_type": "code",
   "execution_count": 175,
   "metadata": {},
   "outputs": [
    {
     "name": "stdout",
     "output_type": "stream",
     "text": [
      "../notebooks/data/V451Dra#15C_000000246.FIT\n"
     ]
    }
   ],
   "source": [
    "print(FITS_FILE)\n",
    "hdulist = fits.open(FITS_FILE)\n",
    "# data = hdulist[0].data.astype(float)\n",
    "data = hdulist[0].data"
   ]
  },
  {
   "cell_type": "code",
   "execution_count": 191,
   "metadata": {},
   "outputs": [
    {
     "name": "stdout",
     "output_type": "stream",
     "text": [
      "(3194, 4788)\n",
      "CPU times: user 129 ms, sys: 116 ms, total: 245 ms\n",
      "Wall time: 250 ms\n",
      "<class 'numpy.uint16'>\n"
     ]
    },
    {
     "data": {
      "text/plain": [
       "<Figure size 2880x2560 with 0 Axes>"
      ]
     },
     "metadata": {},
     "output_type": "display_data"
    }
   ],
   "source": [
    "print(data.shape)\n",
    "\n",
    "fig=plt.figure(figsize=(36, 32), dpi= 80, facecolor='w', edgecolor='k')\n",
    "# target_app = CircularAperture(target_xy, r=20.)    \n",
    "#plt.imshow(data, cmap='gray_r', origin='lower', vmin=0, vmax=2500)\n",
    "%time data_binned=binning_fast(data)\n",
    "hdulist[0].data = data_binned.astype(np.uint16)\n",
    "#hdulist[0].header = adjust_header(hdulist[0].header)\n",
    "adjust_header(hdulist[0].header)\n",
    "#print(hdulist[0].header.__repr__)\n",
    "#plt.imshow(data_binned, cmap='gray_r', origin='lower')\n",
    "print(type(hdulist[0].data[0][0]))"
   ]
  },
  {
   "cell_type": "markdown",
   "metadata": {},
   "source": [
    "## Save the image"
   ]
  },
  {
   "cell_type": "code",
   "execution_count": 192,
   "metadata": {},
   "outputs": [],
   "source": [
    "#print((Path(wcs_file.parent/wcs_file.stem)+'_binned.fits'+wcs_file.suffix))\n",
    "\n",
    "hdulist.writeto(binned_filename(fits_file), overwrite=True)\n",
    "plt.close(fig)"
   ]
  },
  {
   "cell_type": "code",
   "execution_count": 76,
   "metadata": {},
   "outputs": [
    {
     "ename": "TypeError",
     "evalue": "unsupported operand type(s) for +: 'PosixPath' and 'PosixPath'",
     "output_type": "error",
     "traceback": [
      "\u001b[0;31m---------------------------------------------------------------------------\u001b[0m",
      "\u001b[0;31mTypeError\u001b[0m                                 Traceback (most recent call last)",
      "\u001b[0;32m<ipython-input-76-605926c5a2c1>\u001b[0m in \u001b[0;36m<module>\u001b[0;34m\u001b[0m\n\u001b[0;32m----> 1\u001b[0;31m \u001b[0mwcs_file\u001b[0m\u001b[0;34m.\u001b[0m\u001b[0mparent\u001b[0m\u001b[0;34m/\u001b[0m\u001b[0mwcs_file\u001b[0m\u001b[0;34m.\u001b[0m\u001b[0mstem\u001b[0m\u001b[0;34m+\u001b[0m\u001b[0mPath\u001b[0m\u001b[0;34m(\u001b[0m\u001b[0;34m'bla'\u001b[0m\u001b[0;34m)\u001b[0m\u001b[0;34m\u001b[0m\u001b[0;34m\u001b[0m\u001b[0m\n\u001b[0m",
      "\u001b[0;31mTypeError\u001b[0m: unsupported operand type(s) for +: 'PosixPath' and 'PosixPath'"
     ]
    }
   ],
   "source": [
    "wcs_file.parent/wcs_file.stem+Path('bla')"
   ]
  },
  {
   "cell_type": "code",
   "execution_count": 111,
   "metadata": {},
   "outputs": [
    {
     "name": "stdout",
     "output_type": "stream",
     "text": [
      "[[ 0  1  2  3  4  5]\n",
      " [ 6  7  8  9 10 11]\n",
      " [12 13 14 15 16 17]\n",
      " [18 19 20 21 22 23]\n",
      " [24 25 26 27 28 29]\n",
      " [30 31 32 33 34 35]]\n",
      "m,n 6 6\n",
      "Input is (6, 6), output is (3, 3)\n",
      "CPU times: user 0 ns, sys: 1.34 ms, total: 1.34 ms\n",
      "Wall time: 1.1 ms\n",
      "[[ 14.  22.  30.]\n",
      " [ 62.  70.  78.]\n",
      " [110. 118. 126.]]\n",
      "CPU times: user 0 ns, sys: 798 µs, total: 798 µs\n",
      "Wall time: 795 µs\n"
     ]
    }
   ],
   "source": [
    "print(a)\n",
    "%time result =binning(a)\n",
    "print(result)\n",
    "%time result = binning_fast(a)"
   ]
  },
  {
   "cell_type": "code",
   "execution_count": 193,
   "metadata": {},
   "outputs": [
    {
     "data": {
      "text/plain": [
       "SIMPLE  =                    T                                                  \n",
       "BITPIX  =                   16 / 8 unsigned int, 16 & 32 int, -32 & -64 real    \n",
       "NAXIS   =                    2 /number of axes                                  \n",
       "NAXIS1  =                 2394 / fastest changing axis                          \n",
       "NAXIS2  =                 1597 / next to fastest changing axis                  \n",
       "DATE-OBS= '2020-02-06T23:06:31' /YYYY-MM-DDThh:mm:ss observation start, UT      \n",
       "EXPTIME =   15.000000000000000 /Exposure time in seconds                        \n",
       "EXPOSURE=   15.000000000000000 /Exposure time in seconds                        \n",
       "SET-TEMP=  -10.000000000000000 /CCD temperature setpoint in C                   \n",
       "CCD-TEMP=  -10.000000000000000 /CCD temperature at start of exposure in C       \n",
       "XPIXSZ  =              7700.48 / Pixel Width in microns (after binning)         \n",
       "YPIXSZ  =              7700.48 / Pixel Height in microns (after binning)        \n",
       "XBINNING=                 2048 / Binning factor in width                        \n",
       "YBINNING=                 2048 / Binning factor in height                       \n",
       "XORGSUBF=                    0 /Subframe X position in binned pixels            \n",
       "YORGSUBF=                    0 /Subframe Y position in binned pixels            \n",
       "IMAGETYP= 'Light Frame' /       Type of image                                   \n",
       "FOCALLEN=           700.000000 / Focal length of telescope in mm                \n",
       "APTDIA  =           100.000000 / Aperture diameter of telescope in mm           \n",
       "APTAREA =  0.00000000000000000 /Aperture area of telescope in mm^2              \n",
       "EGAIN   =   1.0000000000000000 /Electronic gain in e-/ADU                       \n",
       "SBSTDVER= 'SBFITSEXT Version 1.0' /Version of SBFITSEXT standard in effect      \n",
       "SWCREATE= 'MaxIm DL Version 6.09 141204 2TS4A' /Name of software                \n",
       "SWSERIAL= '2TS4A-FX6KY-ARHUU-8H50W-U4YVV-Q3' /Software serial number            \n",
       "JD      =   2458886.4628587961 /Julian Date at start of exposure                \n",
       "OBJECT  = '        '                                                            \n",
       "TELESCOP= '        ' /          telescope used to acquire this image            \n",
       "INSTRUME= 'QHYCCD-Cameras-Capture'                                              \n",
       "OBSERVER= '        '                                                            \n",
       "NOTES   = '        '                                                            \n",
       "FLIPSTAT= '        '                                                            \n",
       "OBJCTRA = '11 10 24'           /        Nominal Right Ascension of center of ima\n",
       "OBJCTDEC= '77 19 15'           /       Nominal Declination of center of image   \n",
       "CENTAZ  = '281.2142' /          Nominal Azimuth of center of image in deg       \n",
       "CENTALT = '-7.4518 ' /          Nominal Altitude of center of image in deg      \n",
       "HISTORY  Automated by CCD Commander                                             \n",
       "CSTRETCH= 'Medium  ' /          Initial display stretch mode                    \n",
       "CBLACK  =                 1130 /Initial display black level in ADUs             \n",
       "CWHITE  =                 1308 /Initial display white level in ADUs             \n",
       "PEDESTAL=                    0 /Correction to add for zero-based ADU            \n",
       "SWOWNER = 'Josch Hambsch' /     Licensed owner of software                      \n",
       "SITELAT = '51      '                                                            \n",
       "SITELONG= '05      '                                                            \n",
       "FILTER  = 'C       '                                                            "
      ]
     },
     "execution_count": 193,
     "metadata": {},
     "output_type": "execute_result"
    }
   ],
   "source": [
    "hdulist[0].header"
   ]
  },
  {
   "cell_type": "code",
   "execution_count": 170,
   "metadata": {},
   "outputs": [
    {
     "name": "stdout",
     "output_type": "stream",
     "text": [
      "../notebooks/data/V451Dra#15C_000000246_binned.FIT\n"
     ]
    }
   ],
   "source": [
    "print(wcs_file.parent/(wcs_file.stem+'_binned'+wcs_file.suffix))"
   ]
  },
  {
   "cell_type": "code",
   "execution_count": 168,
   "metadata": {},
   "outputs": [
    {
     "data": {
      "text/plain": [
       "'V451Dra#15C_000000246_binned.FIT'"
      ]
     },
     "execution_count": 168,
     "metadata": {},
     "output_type": "execute_result"
    }
   ],
   "source": [
    "wcs_file.stem+'_binned'+wcs_file.suffix"
   ]
  },
  {
   "cell_type": "code",
   "execution_count": null,
   "metadata": {},
   "outputs": [],
   "source": []
  }
 ],
 "metadata": {
  "kernelspec": {
   "display_name": "Python 3",
   "language": "python",
   "name": "python3"
  },
  "language_info": {
   "codemirror_mode": {
    "name": "ipython",
    "version": 3
   },
   "file_extension": ".py",
   "mimetype": "text/x-python",
   "name": "python",
   "nbconvert_exporter": "python",
   "pygments_lexer": "ipython3",
   "version": "3.7.6"
  }
 },
 "nbformat": 4,
 "nbformat_minor": 4
}
