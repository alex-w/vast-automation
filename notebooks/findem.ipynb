{
 "cells": [
  {
   "cell_type": "code",
   "execution_count": 142,
   "metadata": {},
   "outputs": [
    {
     "name": "stdout",
     "output_type": "stream",
     "text": [
      "/home/jovyan/work\n",
      "[[138, 'RRL_ab', 0.96, 0, <SkyCoord (ICRS): (ra, dec) in deg\n",
      "    (271.40328856, -43.83223887)>, ['WW CrA', <SkyCoord (ICRS): (ra, dec) in deg\n",
      "    (271.40329167, -43.83261111)>, 'RRAB/BL', 0.0003722439468105054, '0d00m01.3401s']], [73, 'CEPH_Other', 0.51, 0, <SkyCoord (ICRS): (ra, dec) in deg\n",
      "    (271.37481064, -44.12829733)>, ['ASASSN-V J180536.53-441521.6', <SkyCoord (ICRS): (ra, dec) in deg\n",
      "    (271.40220833, -44.256)>, 'RRAB', 0.1292047590730617, '0d07m45.1371s']]]\n",
      "[138, 73]\n"
     ]
    }
   ],
   "source": [
    "import os\n",
    "os.chdir('/home/jovyan/work')\n",
    "print(os.getcwd())\n",
    "import init\n",
    "import reading\n",
    "import pandas as pd\n",
    "from astropy.coordinates import SkyCoord\n",
    "import astropy.units as u\n",
    "\n",
    "def getCandidates():\n",
    "    df = pd.DataFrame.from_csv(init.basedir+'upsilon_output.txt')\n",
    "    df.sort_values(by='probability', ascending=False)\n",
    "    df=df[df['label'] != 'NonVar']\n",
    "    df=df[df[\"probability\"] > 0.50]\n",
    "    df=df[df[\"flag\"] != 1]\n",
    "\n",
    "    positions=reading.read_world_positions(init.worldposdir)\n",
    "    result = []\n",
    "    for index, row in df.iterrows():\n",
    "        #print(index, row)\n",
    "        result.append([index, row['label'], row['probability'], row['flag'], SkyCoord(positions[int(index)][0], positions[int(index)][1], unit='deg')])\n",
    "    return result\n",
    "\n",
    "# returns [name, skycoord, type]\n",
    "def getVSX():\n",
    "    result = []\n",
    "    df = pd.DataFrame.from_csv(init.basedir+'SearchResults.csv')\n",
    "    #print(df.head())\n",
    "    for index, row in df.iterrows():\n",
    "        skycoord = SkyCoord(row['Coords'], unit=(u.hourangle, u.deg))\n",
    "        result.append([index, skycoord, row['Type']])\n",
    "    return result\n",
    "\n",
    "def findMatch(vsx, candidates):\n",
    "    for candidate in candidates:\n",
    "        best_sep_deg = 360\n",
    "        best_sep_string = \"\"\n",
    "        best_var = None\n",
    "        for variable in vsx:\n",
    "            sep = candidate[4].separation(variable[1])\n",
    "            if(sep.degree < best_sep_deg):\n",
    "                best_sep_deg = sep.degree\n",
    "                best_sep_string = sep.to_string()\n",
    "                best_var = variable\n",
    "        candidate.append([best_var[0],best_var[1],best_var[2],best_sep_deg, best_sep_string])\n",
    "    return candidates\n",
    "        \n",
    "    \n",
    "matches = findMatch(getVSX(), getCandidates())\n",
    "print(matches)\n",
    "variables_star_list = [i[0] for i in matches]\n",
    "print(variables_star_list)"
   ]
  },
  {
   "cell_type": "code",
   "execution_count": 150,
   "metadata": {},
   "outputs": [
    {
     "data": {
      "text/plain": [
       "hms_tuple(h=18.0, m=5.0, s=36.78925405505993)"
      ]
     },
     "execution_count": 150,
     "metadata": {},
     "output_type": "execute_result"
    }
   ],
   "source": [
    "matches[0][4].ra.hms"
   ]
  },
  {
   "cell_type": "code",
   "execution_count": null,
   "metadata": {},
   "outputs": [],
   "source": []
  }
 ],
 "metadata": {
  "kernelspec": {
   "display_name": "Python 3",
   "language": "python",
   "name": "python3"
  },
  "language_info": {
   "codemirror_mode": {
    "name": "ipython",
    "version": 3
   },
   "file_extension": ".py",
   "mimetype": "text/x-python",
   "name": "python",
   "nbconvert_exporter": "python",
   "pygments_lexer": "ipython3",
   "version": "3.7.3"
  }
 },
 "nbformat": 4,
 "nbformat_minor": 4
}
