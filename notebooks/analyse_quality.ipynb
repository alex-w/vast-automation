{
 "cells": [
  {
   "cell_type": "code",
   "execution_count": 36,
   "metadata": {},
   "outputs": [],
   "source": [
    "import pandas as pd\n",
    "import numpy as np\n",
    "import os\n",
    "os.chdir('/home/jovyan/work/src')\n",
    "import sys\n",
    "import init\n",
    "import do_aperture\n",
    "import read_photometry\n",
    "import reading\n",
    "import logging\n",
    "import glob\n",
    "\n",
    "import importlib\n",
    "importlib.reload(do_aperture)\n",
    "importlib.reload(read_photometry)\n",
    "\n",
    "%matplotlib inline\n",
    "import matplotlib as plt\n",
    "plt.style.use('seaborn')\n",
    "pd.options.mode.chained_assignment = None\n",
    "%reload_ext autoreload\n",
    "%autoreload 2\n",
    "os.chdir('/home/jovyan/work')\n",
    "logging.getLogger().setLevel(logging.INFO)\n",
    "logging.basicConfig(format=\"%(asctime)s %(levelname)s %(message)s\")\n"
   ]
  },
  {
   "cell_type": "markdown",
   "metadata": {},
   "source": [
    "Reading data of photometry files"
   ]
  },
  {
   "cell_type": "code",
   "execution_count": 2,
   "metadata": {},
   "outputs": [
    {
     "name": "stderr",
     "output_type": "stream",
     "text": [
      "  0%|          | 0/900 [00:00<?, ?it/s]"
     ]
    },
    {
     "name": "stdout",
     "output_type": "stream",
     "text": [
      "apertureidx:  2\n"
     ]
    },
    {
     "name": "stderr",
     "output_type": "stream",
     "text": [
      "100%|██████████| 900/900 [00:18<00:00, 49.33it/s]"
     ]
    },
    {
     "name": "stdout",
     "output_type": "stream",
     "text": [
      "Percent of stars detected: 83.52264444444445\n"
     ]
    },
    {
     "name": "stderr",
     "output_type": "stream",
     "text": [
      "\n"
     ]
    }
   ],
   "source": [
    "_, _, apertureidx, _ = reading.aperture_and_compstars()\n",
    "print(\"apertureidx: \", apertureidx)\n",
    "# reading photometry files\n",
    "jdphot, fwhmphot, nrstarsphot, star_resultphot = read_photometry.read_photometry(init.star_list, apertureidx, matched_files=glob.glob(init.photometrydir+'*.pht'))\n",
    "print(f\"Percent of stars detected: {np.sum(nrstarsphot)/(len(init.star_list)*len(nrstarsphot))*100}\")"
   ]
  },
  {
   "cell_type": "markdown",
   "metadata": {},
   "source": [
    "Reading data of matching files"
   ]
  },
  {
   "cell_type": "code",
   "execution_count": 4,
   "metadata": {},
   "outputs": [
    {
     "name": "stderr",
     "output_type": "stream",
     "text": [
      "100%|██████████| 900/900 [00:20<00:00, 44.56it/s]"
     ]
    },
    {
     "name": "stdout",
     "output_type": "stream",
     "text": [
      "Percent of stars detected: 83.52264444444445\n"
     ]
    },
    {
     "name": "stderr",
     "output_type": "stream",
     "text": [
      "\n"
     ]
    }
   ],
   "source": [
    "jd, fwhm, nrstars, star_result = read_photometry.read_photometry(init.star_list, apertureidx)\n",
    "print(f\"Percent of stars detected: {np.sum(nrstars)/(len(init.star_list)*len(nrstars))*100}\")"
   ]
  },
  {
   "cell_type": "code",
   "execution_count": 5,
   "metadata": {},
   "outputs": [
    {
     "name": "stdout",
     "output_type": "stream",
     "text": [
      "0.593664555556\n",
      "(900, 10000, 2)\n",
      "sum finite flat = len flat 0.593664555556\n",
      "9000000\n",
      "0.296832277778\n"
     ]
    },
    {
     "data": {
      "text/plain": [
       "array([[<matplotlib.axes._subplots.AxesSubplot object at 0x7f15013897b8>]], dtype=object)"
      ]
     },
     "execution_count": 5,
     "metadata": {},
     "output_type": "execute_result"
    },
    {
     "data": {
      "image/png": "[encoded data removed]",
      "text/plain": [
       "<Figure size 432x288 with 1 Axes>"
      ]
     },
     "metadata": {
      "needs_background": "light"
     },
     "output_type": "display_data"
    }
   ],
   "source": [
    "totalcount = 0\n",
    "for fileentry in star_result:\n",
    "    totalcount += np.sum(np.isfinite(fileentry))/2\n",
    "print(totalcount/(len(init.star_list)*len(star_result)))\n",
    "print(star_result.shape)\n",
    "flat=star_result.flatten()\n",
    "semiflat = np.reshape(star_result,(-1, 2))\n",
    "\n",
    "print(\"sum finite flat = len flat\", np.sum(np.isfinite(flat))/len(flat))\n",
    "#df = pd.DataFrame()\n",
    "\n",
    "print(semiflat.shape[0])\n",
    "print(np.sum(np.isfinite(flat))/(len(flat)*2))\n",
    "results = [] \n",
    "for file_entry in star_result:\n",
    "    results.append(np.sum(np.isfinite(file_entry.flatten()))/(len(file_entry.flatten())))\n",
    "df = pd.DataFrame(results)\n",
    "df.hist()\n",
    "# print(sorted(results))"
   ]
  },
  {
   "cell_type": "code",
   "execution_count": null,
   "metadata": {},
   "outputs": [],
   "source": []
  },
  {
   "cell_type": "code",
   "execution_count": null,
   "metadata": {},
   "outputs": [],
   "source": [
    "do_muniwin.write_photometry(use_config=True, custom_config=None, custom_wildcard=None, custom_outputfile=None,\n",
    "                     custom_outputdir=None):\n"
   ]
  },
  {
   "cell_type": "code",
   "execution_count": null,
   "metadata": {},
   "outputs": [],
   "source": [
    "import csv\n",
    "import operator\n",
    "\n",
    "def write_properties(filename,dictionary):\n",
    "    \"\"\" Writes the provided dictionary in key-sorted order to a properties file with each line of the format key=value\n",
    "\n",
    "    Keyword arguments:\n",
    "        filename -- the name of the file to be written\n",
    "        dictionary -- a dictionary containing the key/value pairs.\n",
    "    \"\"\"\n",
    "    with open(filename, \"wb\") as csvfile:\n",
    "        writer = csv.writer(csvfile, delimiter='=', escapechar='\\\\', quoting=csv.QUOTE_NONE)\n",
    "        for key, value in sorted(dictionary.items(), key=operator.itemgetter(0)):\n",
    "                writer.writerow([ key, value])\n",
    "\n",
    "def main():\n",
    "    data={\n",
    "        \"apertures\": \"2,2.73,3.82,5.27,7.09,9.27,11.82,14.73,18,21.64,25.64,30\",\n",
    "        \"maxstar\": \"10000\",\n",
    "    \"fwhm\": \"2.50\",\n",
    "    \"thresh\": \"4.00\",\n",
    "    \"gain\": \"1.4\",\n",
    "    \"skyinner\": \"8\",\n",
    "    \"skyinner\": \"14\",\n",
    "    }\n",
    "    write_properties('example.ini', data)\n",
    "main()\n",
    "# apertures = 2,2.73,3.82,5.27,7.09,9.27,11.82,14.73,18,21.64,25.64,30\n",
    "# maxstar = 10000\n",
    "# fwhm = 2.50\n",
    "# thresh = 4.00\n",
    "# gain=1.4 # ADC gain of Josch's camera\n",
    "# skyinner=8\n",
    "# skyouter=14"
   ]
  },
  {
   "cell_type": "code",
   "execution_count": 37,
   "metadata": {},
   "outputs": [],
   "source": [
    "df = pd.read_csv(init.testdir+'results.txt', sep=',')"
   ]
  },
  {
   "cell_type": "code",
   "execution_count": 38,
   "metadata": {},
   "outputs": [
    {
     "data": {
      "text/html": [
       "<div>\n",
       "<style scoped>\n",
       "    .dataframe tbody tr th:only-of-type {\n",
       "        vertical-align: middle;\n",
       "    }\n",
       "\n",
       "    .dataframe tbody tr th {\n",
       "        vertical-align: top;\n",
       "    }\n",
       "\n",
       "    .dataframe thead th {\n",
       "        text-align: right;\n",
       "    }\n",
       "</style>\n",
       "<table border=\"1\" class=\"dataframe\">\n",
       "  <thead>\n",
       "    <tr style=\"text-align: right;\">\n",
       "      <th></th>\n",
       "      <th>nrstars</th>\n",
       "      <th>starsdetectedpct</th>\n",
       "      <th>realpercentage</th>\n",
       "    </tr>\n",
       "  </thead>\n",
       "  <tbody>\n",
       "    <tr>\n",
       "      <th>count</th>\n",
       "      <td>100.000000</td>\n",
       "      <td>100.000000</td>\n",
       "      <td>100.000000</td>\n",
       "    </tr>\n",
       "    <tr>\n",
       "      <th>mean</th>\n",
       "      <td>135869.490000</td>\n",
       "      <td>75.483050</td>\n",
       "      <td>0.707765</td>\n",
       "    </tr>\n",
       "    <tr>\n",
       "      <th>std</th>\n",
       "      <td>40169.440916</td>\n",
       "      <td>22.316356</td>\n",
       "      <td>0.202791</td>\n",
       "    </tr>\n",
       "    <tr>\n",
       "      <th>min</th>\n",
       "      <td>61892.000000</td>\n",
       "      <td>34.384444</td>\n",
       "      <td>0.341539</td>\n",
       "    </tr>\n",
       "    <tr>\n",
       "      <th>25%</th>\n",
       "      <td>97953.250000</td>\n",
       "      <td>54.418472</td>\n",
       "      <td>0.532995</td>\n",
       "    </tr>\n",
       "    <tr>\n",
       "      <th>50%</th>\n",
       "      <td>143391.500000</td>\n",
       "      <td>79.661944</td>\n",
       "      <td>0.697310</td>\n",
       "    </tr>\n",
       "    <tr>\n",
       "      <th>75%</th>\n",
       "      <td>180000.000000</td>\n",
       "      <td>100.000000</td>\n",
       "      <td>0.934597</td>\n",
       "    </tr>\n",
       "    <tr>\n",
       "      <th>max</th>\n",
       "      <td>180000.000000</td>\n",
       "      <td>100.000000</td>\n",
       "      <td>0.988942</td>\n",
       "    </tr>\n",
       "  </tbody>\n",
       "</table>\n",
       "</div>"
      ],
      "text/plain": [
       "             nrstars  starsdetectedpct  realpercentage\n",
       "count     100.000000        100.000000      100.000000\n",
       "mean   135869.490000         75.483050        0.707765\n",
       "std     40169.440916         22.316356        0.202791\n",
       "min     61892.000000         34.384444        0.341539\n",
       "25%     97953.250000         54.418472        0.532995\n",
       "50%    143391.500000         79.661944        0.697310\n",
       "75%    180000.000000        100.000000        0.934597\n",
       "max    180000.000000        100.000000        0.988942"
      ]
     },
     "execution_count": 38,
     "metadata": {},
     "output_type": "execute_result"
    }
   ],
   "source": [
    "df.describe()"
   ]
  },
  {
   "cell_type": "code",
   "execution_count": 42,
   "metadata": {},
   "outputs": [],
   "source": [
    "winners = df[df['nrstars'] == 180000]"
   ]
  },
  {
   "cell_type": "code",
   "execution_count": 50,
   "metadata": {},
   "outputs": [
    {
     "data": {
      "text/html": [
       "<div>\n",
       "<style scoped>\n",
       "    .dataframe tbody tr th:only-of-type {\n",
       "        vertical-align: middle;\n",
       "    }\n",
       "\n",
       "    .dataframe tbody tr th {\n",
       "        vertical-align: top;\n",
       "    }\n",
       "\n",
       "    .dataframe thead th {\n",
       "        text-align: right;\n",
       "    }\n",
       "</style>\n",
       "<table border=\"1\" class=\"dataframe\">\n",
       "  <thead>\n",
       "    <tr style=\"text-align: right;\">\n",
       "      <th></th>\n",
       "      <th>resultdir</th>\n",
       "      <th>nrstars</th>\n",
       "      <th>starsdetectedpct</th>\n",
       "      <th>realpercentage</th>\n",
       "    </tr>\n",
       "  </thead>\n",
       "  <tbody>\n",
       "    <tr>\n",
       "      <th>0</th>\n",
       "      <td>./current/test/00001/</td>\n",
       "      <td>180000</td>\n",
       "      <td>100.0</td>\n",
       "      <td>0.988942</td>\n",
       "    </tr>\n",
       "    <tr>\n",
       "      <th>1</th>\n",
       "      <td>./current/test/00002/</td>\n",
       "      <td>180000</td>\n",
       "      <td>100.0</td>\n",
       "      <td>0.984694</td>\n",
       "    </tr>\n",
       "    <tr>\n",
       "      <th>7</th>\n",
       "      <td>./current/test/00008/</td>\n",
       "      <td>180000</td>\n",
       "      <td>100.0</td>\n",
       "      <td>0.986297</td>\n",
       "    </tr>\n",
       "    <tr>\n",
       "      <th>8</th>\n",
       "      <td>./current/test/00009/</td>\n",
       "      <td>180000</td>\n",
       "      <td>100.0</td>\n",
       "      <td>0.982550</td>\n",
       "    </tr>\n",
       "    <tr>\n",
       "      <th>14</th>\n",
       "      <td>./current/test/00015/</td>\n",
       "      <td>180000</td>\n",
       "      <td>100.0</td>\n",
       "      <td>0.984122</td>\n",
       "    </tr>\n",
       "    <tr>\n",
       "      <th>15</th>\n",
       "      <td>./current/test/00016/</td>\n",
       "      <td>180000</td>\n",
       "      <td>100.0</td>\n",
       "      <td>0.980789</td>\n",
       "    </tr>\n",
       "    <tr>\n",
       "      <th>21</th>\n",
       "      <td>./current/test/00022/</td>\n",
       "      <td>180000</td>\n",
       "      <td>100.0</td>\n",
       "      <td>0.983756</td>\n",
       "    </tr>\n",
       "    <tr>\n",
       "      <th>22</th>\n",
       "      <td>./current/test/00023/</td>\n",
       "      <td>180000</td>\n",
       "      <td>100.0</td>\n",
       "      <td>0.980886</td>\n",
       "    </tr>\n",
       "    <tr>\n",
       "      <th>28</th>\n",
       "      <td>./current/test/00029/</td>\n",
       "      <td>180000</td>\n",
       "      <td>100.0</td>\n",
       "      <td>0.984028</td>\n",
       "    </tr>\n",
       "    <tr>\n",
       "      <th>29</th>\n",
       "      <td>./current/test/00030/</td>\n",
       "      <td>180000</td>\n",
       "      <td>100.0</td>\n",
       "      <td>0.980983</td>\n",
       "    </tr>\n",
       "    <tr>\n",
       "      <th>35</th>\n",
       "      <td>./current/test/00036/</td>\n",
       "      <td>180000</td>\n",
       "      <td>100.0</td>\n",
       "      <td>0.983558</td>\n",
       "    </tr>\n",
       "  </tbody>\n",
       "</table>\n",
       "</div>"
      ],
      "text/plain": [
       "                resultdir  nrstars  starsdetectedpct  realpercentage\n",
       "0   ./current/test/00001/   180000             100.0        0.988942\n",
       "1   ./current/test/00002/   180000             100.0        0.984694\n",
       "7   ./current/test/00008/   180000             100.0        0.986297\n",
       "8   ./current/test/00009/   180000             100.0        0.982550\n",
       "14  ./current/test/00015/   180000             100.0        0.984122\n",
       "15  ./current/test/00016/   180000             100.0        0.980789\n",
       "21  ./current/test/00022/   180000             100.0        0.983756\n",
       "22  ./current/test/00023/   180000             100.0        0.980886\n",
       "28  ./current/test/00029/   180000             100.0        0.984028\n",
       "29  ./current/test/00030/   180000             100.0        0.980983\n",
       "35  ./current/test/00036/   180000             100.0        0.983558"
      ]
     },
     "execution_count": 50,
     "metadata": {},
     "output_type": "execute_result"
    }
   ],
   "source": [
    "winners[winners['realpercentage'] > 0.98]"
   ]
  },
  {
   "cell_type": "code",
   "execution_count": 57,
   "metadata": {},
   "outputs": [
    {
     "data": {
      "text/plain": [
       "'./current/test/00001/'"
      ]
     },
     "execution_count": 57,
     "metadata": {},
     "output_type": "execute_result"
    }
   ],
   "source": [
    "df.sort_values(['nrstars', 'realpercentage'], ascending=[False, False]).iloc[0].resultdir"
   ]
  },
  {
   "cell_type": "code",
   "execution_count": 31,
   "metadata": {},
   "outputs": [
    {
     "name": "stderr",
     "output_type": "stream",
     "text": [
      "\n",
      "  0%|          | 0/18 [00:00<?, ?it/s]\u001b[A\n",
      "  6%|▌         | 1/18 [00:00<00:04,  3.43it/s]\u001b[A\n",
      " 11%|█         | 2/18 [00:00<00:03,  4.24it/s]\u001b[A\n",
      " 17%|█▋        | 3/18 [00:00<00:03,  4.70it/s]\u001b[A\n",
      " 61%|██████    | 11/18 [00:00<00:01,  6.44it/s]\u001b[A\n",
      "100%|██████████| 18/18 [00:00<00:00, 22.90it/s]\u001b[A"
     ]
    }
   ],
   "source": [
    "jd, fwhm, nrstars, star_result_ = read_photometry.read_photometry(init.star_list, 2, glob.glob(init.testdir+'00008/*.pht'))"
   ]
  },
  {
   "cell_type": "code",
   "execution_count": 32,
   "metadata": {},
   "outputs": [
    {
     "data": {
      "text/plain": [
       "(18, 10000, 2)"
      ]
     },
     "execution_count": 32,
     "metadata": {},
     "output_type": "execute_result"
    }
   ],
   "source": [
    "star_result_.shape"
   ]
  },
  {
   "cell_type": "code",
   "execution_count": 33,
   "metadata": {},
   "outputs": [],
   "source": [
    "df = pd.DataFrame(star_result_[0])"
   ]
  },
  {
   "cell_type": "code",
   "execution_count": 27,
   "metadata": {},
   "outputs": [
    {
     "data": {
      "text/plain": [
       "36"
      ]
     },
     "execution_count": 27,
     "metadata": {},
     "output_type": "execute_result"
    }
   ],
   "source": [
    "np.sum(np.isfinite(star_result_.flatten()))"
   ]
  },
  {
   "cell_type": "code",
   "execution_count": null,
   "metadata": {},
   "outputs": [],
   "source": []
  }
 ],
 "metadata": {
  "kernelspec": {
   "display_name": "Python 3",
   "language": "python",
   "name": "python3"
  },
  "language_info": {
   "codemirror_mode": {
    "name": "ipython",
    "version": 3
   },
   "file_extension": ".py",
   "mimetype": "text/x-python",
   "name": "python",
   "nbconvert_exporter": "python",
   "pygments_lexer": "ipython3",
   "version": "3.7.3"
  }
 },
 "nbformat": 4,
 "nbformat_minor": 4
}
