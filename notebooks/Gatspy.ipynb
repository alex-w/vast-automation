{
 "cells": [
  {
   "cell_type": "code",
   "execution_count": 2,
   "metadata": {},
   "outputs": [],
   "source": [
    "from gatspy import datasets, periodic\n",
    "import astroML\n",
    "import numpy as np\n",
    "from pandas import DataFrame\n",
    "import os\n",
    "os.chdir('/home/jovyan/work/src')\n",
    "import do_charts_vast\n",
    "import reading\n"
   ]
  },
  {
   "cell_type": "code",
   "execution_count": 3,
   "metadata": {},
   "outputs": [
    {
     "name": "stdout",
     "output_type": "stream",
     "text": [
      "/home/jovyan/work/src\n"
     ]
    }
   ],
   "source": [
    "def massage_df_for_phase_plot(df: DataFrame):\n",
    "    df['floatJD'] = df['JD'].astype(np.float)\n",
    "    df['realV'] = df['Vrel']\n",
    "    df['realErr'] = df['err']\n",
    "    return df\n",
    "\n",
    "def read_light_curve(star_id):\n",
    "    print(os.getcwd())\n",
    "    df = reading.read_lightcurve_vast(f\"/home/jovyan/work/tests/data/outliers/out{star_id:05}.dat\")\n",
    "    return massage_df_for_phase_plot(df)\n",
    "\n",
    "lc = read_light_curve(2267)\n",
    "lc = massage_df_for_phase_plot(lc)\n",
    "t, mag, dmag = lc['floatJD'], lc['realV'], lc['realErr']\n"
   ]
  },
  {
   "cell_type": "code",
   "execution_count": 4,
   "metadata": {},
   "outputs": [
    {
     "name": "stdout",
     "output_type": "stream",
     "text": [
      "0       2.456687e+06\n",
      "1       2.456703e+06\n",
      "2       2.456719e+06\n",
      "3       2.456718e+06\n",
      "4       2.456734e+06\n",
      "            ...     \n",
      "5379    2.456738e+06\n",
      "5380    2.456735e+06\n",
      "5381    2.456700e+06\n",
      "5382    2.457008e+06\n",
      "5383    2.456710e+06\n",
      "Name: floatJD, Length: 5384, dtype: float64\n",
      "Finding optimal frequency:\n",
      " - Estimated peak width = 0.0182\n",
      " - Using 5 steps per peak; omega_step = 0.00364\n",
      " - User-specified period range:  0.2 to 1.2\n",
      " - Computing periods at 7190 steps\n",
      "Zooming-in on 5 candidate peaks:\n",
      " - Computing periods at 995 steps\n"
     ]
    }
   ],
   "source": [
    "model = periodic.LombScargleFast(fit_period=True)\n",
    "model.optimizer.period_range = (0.2, 1.2)\n",
    "print(t)\n",
    "model.fit(t, mag, dmag);"
   ]
  },
  {
   "cell_type": "code",
   "execution_count": 5,
   "metadata": {},
   "outputs": [
    {
     "data": {
      "text/plain": [
       "0.2601629907249763"
      ]
     },
     "execution_count": 5,
     "metadata": {},
     "output_type": "execute_result"
    }
   ],
   "source": [
    "model.best_period"
   ]
  },
  {
   "cell_type": "code",
   "execution_count": 14,
   "metadata": {},
   "outputs": [
    {
     "name": "stdout",
     "output_type": "stream",
     "text": [
      "0.260163754092154\n"
     ]
    }
   ],
   "source": [
    "# lesve : 0.520324321\n",
    "period_max = np.max(t) - np.min(t)\n",
    "ls = periodic.LombScargleFast(optimizer_kwds={'quiet': True, 'period_range': (0.01, period_max)},\n",
    "                     silence_warnings=True, fit_period=True, fit_offset=False).fit(t, mag, dmag)\n",
    "# period, power = ls.periodogram_auto(nyquist_factor=200)\n",
    "# ls.optimizer.period_range=(period.min(), period.max())\n",
    "# print(\"period range: ({0}, {1})\".format(period.min(), period.max()))\n",
    "# print(\"number of periods: {0}\".format(len(period)))\n",
    "period = ls.best_period\n",
    "print(period)"
   ]
  },
  {
   "cell_type": "code",
   "execution_count": 13,
   "metadata": {},
   "outputs": [
    {
     "data": {
      "text/plain": [
       "\u001b[0;31mInit signature:\u001b[0m\n",
       "\u001b[0mperiodic\u001b[0m\u001b[0;34m.\u001b[0m\u001b[0mLombScargleFast\u001b[0m\u001b[0;34m(\u001b[0m\u001b[0;34m\u001b[0m\n",
       "\u001b[0;34m\u001b[0m    \u001b[0moptimizer\u001b[0m\u001b[0;34m=\u001b[0m\u001b[0;32mNone\u001b[0m\u001b[0;34m,\u001b[0m\u001b[0;34m\u001b[0m\n",
       "\u001b[0;34m\u001b[0m    \u001b[0mcenter_data\u001b[0m\u001b[0;34m=\u001b[0m\u001b[0;32mTrue\u001b[0m\u001b[0;34m,\u001b[0m\u001b[0;34m\u001b[0m\n",
       "\u001b[0;34m\u001b[0m    \u001b[0mfit_offset\u001b[0m\u001b[0;34m=\u001b[0m\u001b[0;32mTrue\u001b[0m\u001b[0;34m,\u001b[0m\u001b[0;34m\u001b[0m\n",
       "\u001b[0;34m\u001b[0m    \u001b[0muse_fft\u001b[0m\u001b[0;34m=\u001b[0m\u001b[0;32mTrue\u001b[0m\u001b[0;34m,\u001b[0m\u001b[0;34m\u001b[0m\n",
       "\u001b[0;34m\u001b[0m    \u001b[0mls_kwds\u001b[0m\u001b[0;34m=\u001b[0m\u001b[0;32mNone\u001b[0m\u001b[0;34m,\u001b[0m\u001b[0;34m\u001b[0m\n",
       "\u001b[0;34m\u001b[0m    \u001b[0mNterms\u001b[0m\u001b[0;34m=\u001b[0m\u001b[0;36m1\u001b[0m\u001b[0;34m,\u001b[0m\u001b[0;34m\u001b[0m\n",
       "\u001b[0;34m\u001b[0m    \u001b[0mfit_period\u001b[0m\u001b[0;34m=\u001b[0m\u001b[0;32mFalse\u001b[0m\u001b[0;34m,\u001b[0m\u001b[0;34m\u001b[0m\n",
       "\u001b[0;34m\u001b[0m    \u001b[0moptimizer_kwds\u001b[0m\u001b[0;34m=\u001b[0m\u001b[0;32mNone\u001b[0m\u001b[0;34m,\u001b[0m\u001b[0;34m\u001b[0m\n",
       "\u001b[0;34m\u001b[0m    \u001b[0msilence_warnings\u001b[0m\u001b[0;34m=\u001b[0m\u001b[0;32mFalse\u001b[0m\u001b[0;34m,\u001b[0m\u001b[0;34m\u001b[0m\n",
       "\u001b[0;34m\u001b[0m\u001b[0;34m)\u001b[0m\u001b[0;34m\u001b[0m\u001b[0;34m\u001b[0m\u001b[0m\n",
       "\u001b[0;31mSource:\u001b[0m        \n",
       "\u001b[0;32mclass\u001b[0m \u001b[0mLombScargleFast\u001b[0m\u001b[0;34m(\u001b[0m\u001b[0mLombScargle\u001b[0m\u001b[0;34m)\u001b[0m\u001b[0;34m:\u001b[0m\u001b[0;34m\u001b[0m\n",
       "\u001b[0;34m\u001b[0m    \u001b[0;34m\"\"\"Fast FFT-based Lomb-Scargle Periodogram Implementation\u001b[0m\n",
       "\u001b[0;34m\u001b[0m\n",
       "\u001b[0;34m    This implements the O[N log N] lomb-scargle periodogram, described in\u001b[0m\n",
       "\u001b[0;34m    Press & Rybicki (1989) [1].\u001b[0m\n",
       "\u001b[0;34m    To compute the periodogram via the fast algorithm, use the\u001b[0m\n",
       "\u001b[0;34m    ``score_frequency_grid()`` method. The ``score()`` method and\u001b[0m\n",
       "\u001b[0;34m    ``periodogram()`` method will default to the slower algorithm.\u001b[0m\n",
       "\u001b[0;34m    See Notes below for more information about the algorithm.\u001b[0m\n",
       "\u001b[0;34m\u001b[0m\n",
       "\u001b[0;34m    Parameters\u001b[0m\n",
       "\u001b[0;34m    ----------\u001b[0m\n",
       "\u001b[0;34m    optimizer : PeriodicOptimizer instance\u001b[0m\n",
       "\u001b[0;34m        Optimizer to use to find the best period. If not specified, the\u001b[0m\n",
       "\u001b[0;34m        LinearScanOptimizer will be used.\u001b[0m\n",
       "\u001b[0;34m    center_data : boolean (default = True)\u001b[0m\n",
       "\u001b[0;34m        If True, then compute the weighted mean of the input data and subtract\u001b[0m\n",
       "\u001b[0;34m        before fitting the model.\u001b[0m\n",
       "\u001b[0;34m    fit_offset : boolean (default = True)\u001b[0m\n",
       "\u001b[0;34m        If True, then fit a floating-mean sinusoid model.\u001b[0m\n",
       "\u001b[0;34m    use_fft : boolean (default = True)\u001b[0m\n",
       "\u001b[0;34m        Specify whether to use the Press & Rybicki FFT algorithm to compute\u001b[0m\n",
       "\u001b[0;34m        the result\u001b[0m\n",
       "\u001b[0;34m    ls_kwds : dict\u001b[0m\n",
       "\u001b[0;34m        Dictionary of keywords to pass to the ``lomb_scargle_fast`` routine.\u001b[0m\n",
       "\u001b[0;34m    fit_period : bool (optional)\u001b[0m\n",
       "\u001b[0;34m        If True, then fit for the best period when fit() method is called.\u001b[0m\n",
       "\u001b[0;34m    optimizer_kwds : dict (optional)\u001b[0m\n",
       "\u001b[0;34m        Dictionary of keyword arguments for constructing the optimizer. For\u001b[0m\n",
       "\u001b[0;34m        example, silence optimizer output with `optimizer_kwds={\"quiet\": True}`.\u001b[0m\n",
       "\u001b[0;34m    silence_warnings : bool (default=False)\u001b[0m\n",
       "\u001b[0;34m        If False, then warn the user when doing silly things, like calling\u001b[0m\n",
       "\u001b[0;34m        ``score()`` rather than ``score_frequency_grid()`` or fitting this to\u001b[0m\n",
       "\u001b[0;34m        small datasets (fewer than 50 points).\u001b[0m\n",
       "\u001b[0;34m\u001b[0m\n",
       "\u001b[0;34m    Examples\u001b[0m\n",
       "\u001b[0;34m    --------\u001b[0m\n",
       "\u001b[0;34m    >>> rng = np.random.RandomState(0)\u001b[0m\n",
       "\u001b[0;34m    >>> t = 100 * rng.rand(100)\u001b[0m\n",
       "\u001b[0;34m    >>> dy = 0.1\u001b[0m\n",
       "\u001b[0;34m    >>> omega = 10\u001b[0m\n",
       "\u001b[0;34m    >>> y = np.sin(omega * t) + dy * rng.randn(100)\u001b[0m\n",
       "\u001b[0;34m    >>> ls = LombScargleFast().fit(t, y, dy)\u001b[0m\n",
       "\u001b[0;34m    >>> ls.optimizer.period_range = (0.2, 1.2)\u001b[0m\n",
       "\u001b[0;34m    >>> ls.best_period\u001b[0m\n",
       "\u001b[0;34m    Finding optimal frequency:\u001b[0m\n",
       "\u001b[0;34m     - Estimated peak width = 0.0639\u001b[0m\n",
       "\u001b[0;34m     - Using 5 steps per peak; omega_step = 0.0128\u001b[0m\n",
       "\u001b[0;34m     - User-specified period range:  0.2 to 1.2\u001b[0m\n",
       "\u001b[0;34m     - Computing periods at 2051 steps\u001b[0m\n",
       "\u001b[0;34m    Zooming-in on 5 candidate peaks:\u001b[0m\n",
       "\u001b[0;34m     - Computing periods at 1000 steps\u001b[0m\n",
       "\u001b[0;34m    0.62826265739259146\u001b[0m\n",
       "\u001b[0;34m    >>> ls.predict([0, 0.5])\u001b[0m\n",
       "\u001b[0;34m    array([-0.02019474, -0.92910567])\u001b[0m\n",
       "\u001b[0;34m\u001b[0m\n",
       "\u001b[0;34m    Notes\u001b[0m\n",
       "\u001b[0;34m    -----\u001b[0m\n",
       "\u001b[0;34m    Currently, a NotImplementedError will be raised if both center_data\u001b[0m\n",
       "\u001b[0;34m    and fit_offset are False.\u001b[0m\n",
       "\u001b[0;34m\u001b[0m\n",
       "\u001b[0;34m    Note also that the fast algorithm is only an approximation to the true\u001b[0m\n",
       "\u001b[0;34m    Lomb-Scargle periodogram, and as the number of points grows this\u001b[0m\n",
       "\u001b[0;34m    approximation improves. On the other hand, for very small datasets\u001b[0m\n",
       "\u001b[0;34m    (<~50 points or so) this approximation may produce incorrect results\u001b[0m\n",
       "\u001b[0;34m    for some datasets.\u001b[0m\n",
       "\u001b[0;34m\u001b[0m\n",
       "\u001b[0;34m    See Also\u001b[0m\n",
       "\u001b[0;34m    --------\u001b[0m\n",
       "\u001b[0;34m    LombScargle\u001b[0m\n",
       "\u001b[0;34m    LombScargleAstroML\u001b[0m\n",
       "\u001b[0;34m\u001b[0m\n",
       "\u001b[0;34m    References\u001b[0m\n",
       "\u001b[0;34m    ----------\u001b[0m\n",
       "\u001b[0;34m    .. [1] Press W.H. and Rybicki, G.B, \"Fast algorithm for spectral analysis\u001b[0m\n",
       "\u001b[0;34m           of unevenly sampled data\". ApJ 1:338, p277, 1989\u001b[0m\n",
       "\u001b[0;34m    \"\"\"\u001b[0m\u001b[0;34m\u001b[0m\n",
       "\u001b[0;34m\u001b[0m    \u001b[0;32mdef\u001b[0m \u001b[0m__init__\u001b[0m\u001b[0;34m(\u001b[0m\u001b[0mself\u001b[0m\u001b[0;34m,\u001b[0m \u001b[0moptimizer\u001b[0m\u001b[0;34m=\u001b[0m\u001b[0;32mNone\u001b[0m\u001b[0;34m,\u001b[0m \u001b[0mcenter_data\u001b[0m\u001b[0;34m=\u001b[0m\u001b[0;32mTrue\u001b[0m\u001b[0;34m,\u001b[0m \u001b[0mfit_offset\u001b[0m\u001b[0;34m=\u001b[0m\u001b[0;32mTrue\u001b[0m\u001b[0;34m,\u001b[0m\u001b[0;34m\u001b[0m\n",
       "\u001b[0;34m\u001b[0m                 \u001b[0muse_fft\u001b[0m\u001b[0;34m=\u001b[0m\u001b[0;32mTrue\u001b[0m\u001b[0;34m,\u001b[0m \u001b[0mls_kwds\u001b[0m\u001b[0;34m=\u001b[0m\u001b[0;32mNone\u001b[0m\u001b[0;34m,\u001b[0m \u001b[0mNterms\u001b[0m\u001b[0;34m=\u001b[0m\u001b[0;36m1\u001b[0m\u001b[0;34m,\u001b[0m\u001b[0;34m\u001b[0m\n",
       "\u001b[0;34m\u001b[0m                 \u001b[0mfit_period\u001b[0m\u001b[0;34m=\u001b[0m\u001b[0;32mFalse\u001b[0m\u001b[0;34m,\u001b[0m \u001b[0moptimizer_kwds\u001b[0m\u001b[0;34m=\u001b[0m\u001b[0;32mNone\u001b[0m\u001b[0;34m,\u001b[0m\u001b[0;34m\u001b[0m\n",
       "\u001b[0;34m\u001b[0m                 \u001b[0msilence_warnings\u001b[0m\u001b[0;34m=\u001b[0m\u001b[0;32mFalse\u001b[0m\u001b[0;34m)\u001b[0m\u001b[0;34m:\u001b[0m\u001b[0;34m\u001b[0m\n",
       "\u001b[0;34m\u001b[0m        \u001b[0mself\u001b[0m\u001b[0;34m.\u001b[0m\u001b[0muse_fft\u001b[0m \u001b[0;34m=\u001b[0m \u001b[0muse_fft\u001b[0m\u001b[0;34m\u001b[0m\n",
       "\u001b[0;34m\u001b[0m        \u001b[0mself\u001b[0m\u001b[0;34m.\u001b[0m\u001b[0mls_kwds\u001b[0m \u001b[0;34m=\u001b[0m \u001b[0mls_kwds\u001b[0m\u001b[0;34m\u001b[0m\n",
       "\u001b[0;34m\u001b[0m        \u001b[0mself\u001b[0m\u001b[0;34m.\u001b[0m\u001b[0msilence_warnings\u001b[0m \u001b[0;34m=\u001b[0m \u001b[0msilence_warnings\u001b[0m\u001b[0;34m\u001b[0m\n",
       "\u001b[0;34m\u001b[0m\u001b[0;34m\u001b[0m\n",
       "\u001b[0;34m\u001b[0m        \u001b[0;32mif\u001b[0m \u001b[0mNterms\u001b[0m \u001b[0;34m!=\u001b[0m \u001b[0;36m1\u001b[0m\u001b[0;34m:\u001b[0m\u001b[0;34m\u001b[0m\n",
       "\u001b[0;34m\u001b[0m            \u001b[0;32mraise\u001b[0m \u001b[0mValueError\u001b[0m\u001b[0;34m(\u001b[0m\u001b[0;34m\"LombScargleFast supports only Nterms = 1\"\u001b[0m\u001b[0;34m)\u001b[0m\u001b[0;34m\u001b[0m\n",
       "\u001b[0;34m\u001b[0m\u001b[0;34m\u001b[0m\n",
       "\u001b[0;34m\u001b[0m        \u001b[0mLombScargle\u001b[0m\u001b[0;34m.\u001b[0m\u001b[0m__init__\u001b[0m\u001b[0;34m(\u001b[0m\u001b[0mself\u001b[0m\u001b[0;34m,\u001b[0m \u001b[0moptimizer\u001b[0m\u001b[0;34m=\u001b[0m\u001b[0moptimizer\u001b[0m\u001b[0;34m,\u001b[0m\u001b[0;34m\u001b[0m\n",
       "\u001b[0;34m\u001b[0m                             \u001b[0mcenter_data\u001b[0m\u001b[0;34m=\u001b[0m\u001b[0mcenter_data\u001b[0m\u001b[0;34m,\u001b[0m \u001b[0mfit_offset\u001b[0m\u001b[0;34m=\u001b[0m\u001b[0mfit_offset\u001b[0m\u001b[0;34m,\u001b[0m\u001b[0;34m\u001b[0m\n",
       "\u001b[0;34m\u001b[0m                             \u001b[0mNterms\u001b[0m\u001b[0;34m=\u001b[0m\u001b[0;36m1\u001b[0m\u001b[0;34m,\u001b[0m \u001b[0mregularization\u001b[0m\u001b[0;34m=\u001b[0m\u001b[0;32mNone\u001b[0m\u001b[0;34m,\u001b[0m\u001b[0;34m\u001b[0m\n",
       "\u001b[0;34m\u001b[0m                             \u001b[0mfit_period\u001b[0m\u001b[0;34m=\u001b[0m\u001b[0mfit_period\u001b[0m\u001b[0;34m,\u001b[0m\u001b[0;34m\u001b[0m\n",
       "\u001b[0;34m\u001b[0m                             \u001b[0moptimizer_kwds\u001b[0m\u001b[0;34m=\u001b[0m\u001b[0moptimizer_kwds\u001b[0m\u001b[0;34m)\u001b[0m\u001b[0;34m\u001b[0m\n",
       "\u001b[0;34m\u001b[0m\u001b[0;34m\u001b[0m\n",
       "\u001b[0;34m\u001b[0m    \u001b[0;32mdef\u001b[0m \u001b[0m_score_frequency_grid\u001b[0m\u001b[0;34m(\u001b[0m\u001b[0mself\u001b[0m\u001b[0;34m,\u001b[0m \u001b[0mf0\u001b[0m\u001b[0;34m,\u001b[0m \u001b[0mdf\u001b[0m\u001b[0;34m,\u001b[0m \u001b[0mN\u001b[0m\u001b[0;34m)\u001b[0m\u001b[0;34m:\u001b[0m\u001b[0;34m\u001b[0m\n",
       "\u001b[0;34m\u001b[0m        \u001b[0;32mif\u001b[0m \u001b[0;32mnot\u001b[0m \u001b[0mself\u001b[0m\u001b[0;34m.\u001b[0m\u001b[0msilence_warnings\u001b[0m \u001b[0;32mand\u001b[0m \u001b[0mself\u001b[0m\u001b[0;34m.\u001b[0m\u001b[0mt\u001b[0m\u001b[0;34m.\u001b[0m\u001b[0msize\u001b[0m \u001b[0;34m<\u001b[0m \u001b[0;36m50\u001b[0m\u001b[0;34m:\u001b[0m\u001b[0;34m\u001b[0m\n",
       "\u001b[0;34m\u001b[0m            \u001b[0mwarnings\u001b[0m\u001b[0;34m.\u001b[0m\u001b[0mwarn\u001b[0m\u001b[0;34m(\u001b[0m\u001b[0;34m\"For smaller datasets, the approximation used by \"\u001b[0m\u001b[0;34m\u001b[0m\n",
       "\u001b[0;34m\u001b[0m                          \u001b[0;34m\"LombScargleFast may not be suitable.\\n\"\u001b[0m\u001b[0;34m\u001b[0m\n",
       "\u001b[0;34m\u001b[0m                          \u001b[0;34m\"It is recommended to use LombScargle instead.\\n\"\u001b[0m\u001b[0;34m\u001b[0m\n",
       "\u001b[0;34m\u001b[0m                          \u001b[0;34m\"To silence this warning, set \"\u001b[0m\u001b[0;34m\u001b[0m\n",
       "\u001b[0;34m\u001b[0m                          \u001b[0;34m\"``silence_warnings=True``\"\u001b[0m\u001b[0;34m)\u001b[0m\u001b[0;34m\u001b[0m\n",
       "\u001b[0;34m\u001b[0m\u001b[0;34m\u001b[0m\n",
       "\u001b[0;34m\u001b[0m        \u001b[0mfreq\u001b[0m\u001b[0;34m,\u001b[0m \u001b[0mP\u001b[0m \u001b[0;34m=\u001b[0m \u001b[0mlomb_scargle_fast\u001b[0m\u001b[0;34m(\u001b[0m\u001b[0mself\u001b[0m\u001b[0;34m.\u001b[0m\u001b[0mt\u001b[0m\u001b[0;34m,\u001b[0m \u001b[0mself\u001b[0m\u001b[0;34m.\u001b[0m\u001b[0my\u001b[0m\u001b[0;34m,\u001b[0m \u001b[0mself\u001b[0m\u001b[0;34m.\u001b[0m\u001b[0mdy\u001b[0m\u001b[0;34m,\u001b[0m\u001b[0;34m\u001b[0m\n",
       "\u001b[0;34m\u001b[0m                                    \u001b[0mf0\u001b[0m\u001b[0;34m=\u001b[0m\u001b[0mf0\u001b[0m\u001b[0;34m,\u001b[0m \u001b[0mdf\u001b[0m\u001b[0;34m=\u001b[0m\u001b[0mdf\u001b[0m\u001b[0;34m,\u001b[0m \u001b[0mNf\u001b[0m\u001b[0;34m=\u001b[0m\u001b[0mN\u001b[0m\u001b[0;34m,\u001b[0m\u001b[0;34m\u001b[0m\n",
       "\u001b[0;34m\u001b[0m                                    \u001b[0mcenter_data\u001b[0m\u001b[0;34m=\u001b[0m\u001b[0mself\u001b[0m\u001b[0;34m.\u001b[0m\u001b[0mcenter_data\u001b[0m\u001b[0;34m,\u001b[0m\u001b[0;34m\u001b[0m\n",
       "\u001b[0;34m\u001b[0m                                    \u001b[0mfit_offset\u001b[0m\u001b[0;34m=\u001b[0m\u001b[0mself\u001b[0m\u001b[0;34m.\u001b[0m\u001b[0mfit_offset\u001b[0m\u001b[0;34m,\u001b[0m\u001b[0;34m\u001b[0m\n",
       "\u001b[0;34m\u001b[0m                                    \u001b[0muse_fft\u001b[0m\u001b[0;34m=\u001b[0m\u001b[0mself\u001b[0m\u001b[0;34m.\u001b[0m\u001b[0muse_fft\u001b[0m\u001b[0;34m,\u001b[0m\u001b[0;34m\u001b[0m\n",
       "\u001b[0;34m\u001b[0m                                    \u001b[0;34m**\u001b[0m\u001b[0;34m(\u001b[0m\u001b[0mself\u001b[0m\u001b[0;34m.\u001b[0m\u001b[0mls_kwds\u001b[0m \u001b[0;32mor\u001b[0m \u001b[0;34m{\u001b[0m\u001b[0;34m}\u001b[0m\u001b[0;34m)\u001b[0m\u001b[0;34m)\u001b[0m\u001b[0;34m\u001b[0m\n",
       "\u001b[0;34m\u001b[0m        \u001b[0;32mreturn\u001b[0m \u001b[0mP\u001b[0m\u001b[0;34m\u001b[0m\n",
       "\u001b[0;34m\u001b[0m\u001b[0;34m\u001b[0m\n",
       "\u001b[0;34m\u001b[0m    \u001b[0;32mdef\u001b[0m \u001b[0m_score\u001b[0m\u001b[0;34m(\u001b[0m\u001b[0mself\u001b[0m\u001b[0;34m,\u001b[0m \u001b[0mperiods\u001b[0m\u001b[0;34m)\u001b[0m\u001b[0;34m:\u001b[0m\u001b[0;34m\u001b[0m\n",
       "\u001b[0;34m\u001b[0m        \u001b[0;32mif\u001b[0m \u001b[0;32mnot\u001b[0m \u001b[0mself\u001b[0m\u001b[0;34m.\u001b[0m\u001b[0msilence_warnings\u001b[0m\u001b[0;34m:\u001b[0m\u001b[0;34m\u001b[0m\n",
       "\u001b[0;34m\u001b[0m            \u001b[0mwarnings\u001b[0m\u001b[0;34m.\u001b[0m\u001b[0mwarn\u001b[0m\u001b[0;34m(\u001b[0m\u001b[0;34m\"The score() method defaults to a slower O[N^2] \"\u001b[0m\u001b[0;34m\u001b[0m\n",
       "\u001b[0;34m\u001b[0m                          \u001b[0;34m\"algorithm.\\nUse the score_frequency_grid() method \"\u001b[0m\u001b[0;34m\u001b[0m\n",
       "\u001b[0;34m\u001b[0m                          \u001b[0;34m\"to access the fast FFT-based algorithm.\\n\"\u001b[0m\u001b[0;34m\u001b[0m\n",
       "\u001b[0;34m\u001b[0m                          \u001b[0;34m\"To silence this warning, set \"\u001b[0m\u001b[0;34m\u001b[0m\n",
       "\u001b[0;34m\u001b[0m                          \u001b[0;34m\"``silence_warnings=True``\"\u001b[0m\u001b[0;34m)\u001b[0m\u001b[0;34m\u001b[0m\n",
       "\u001b[0;34m\u001b[0m        \u001b[0;32mreturn\u001b[0m \u001b[0mLombScargle\u001b[0m\u001b[0;34m.\u001b[0m\u001b[0m_score\u001b[0m\u001b[0;34m(\u001b[0m\u001b[0mself\u001b[0m\u001b[0;34m,\u001b[0m \u001b[0mperiods\u001b[0m\u001b[0;34m)\u001b[0m\u001b[0;34m\u001b[0m\u001b[0;34m\u001b[0m\u001b[0m\n",
       "\u001b[0;31mFile:\u001b[0m           /opt/conda/lib/python3.7/site-packages/gatspy/periodic/lomb_scargle_fast.py\n",
       "\u001b[0;31mType:\u001b[0m           type\n",
       "\u001b[0;31mSubclasses:\u001b[0m     \n"
      ]
     },
     "metadata": {},
     "output_type": "display_data"
    }
   ],
   "source": [
    "periodic.LombScargleFast??"
   ]
  },
  {
   "cell_type": "code",
   "execution_count": 25,
   "metadata": {},
   "outputs": [
    {
     "name": "stdout",
     "output_type": "stream",
     "text": [
      "Finding optimal frequency:\n",
      " - Estimated peak width = 0.0182\n",
      " - Using 5 steps per peak; omega_step = 0.00364\n",
      " - User-specified period range:  0.2 to 1.2\n",
      " - Computing periods at 7190 steps\n",
      "Zooming-in on 5 candidate peaks:\n",
      " - Computing periods at 995 steps\n"
     ]
    },
    {
     "data": {
      "image/png": "[encoded data removed]",
      "text/plain": [
       "<Figure size 432x288 with 1 Axes>"
      ]
     },
     "metadata": {},
     "output_type": "display_data"
    }
   ],
   "source": [
    "import numpy as np\n",
    "import matplotlib.pyplot as plt\n",
    "import matplotlib as mpl\n",
    "\n",
    "mpl.style.use('ggplot')\n",
    "#mpl.rc('axes', prop_cycle=[\"#4C72B0\", \"#55A868\", \"#C44E52\",\n",
    "#                            \"#8172B2\", \"#CCB974\"])\n",
    "\n",
    "# Fetch the RRLyrae data\n",
    "from gatspy import datasets, periodic\n",
    "\n",
    "# Fit the Lomb-Scargle model\n",
    "model = periodic.LombScargleFast()\n",
    "model.fit(t, mag, dmag)\n",
    "model.optimizer.period_range = (0.2, 1.2)\n",
    "\n",
    "# Predict on a regular phase grid\n",
    "period = model.best_period\n",
    "tfit = np.linspace(0, period, 1000)\n",
    "magfit = model.predict(tfit)\n",
    "\n",
    "# Plot the results\n",
    "phase = (t / period) % 1\n",
    "phasefit = (tfit / period)\n",
    "\n",
    "fig, ax = plt.subplots()\n",
    "ax.errorbar(phase, mag, dmag, fmt='o')\n",
    "ax.plot(phasefit, magfit, '-', color='gray')\n",
    "ax.set(xlabel='phase', ylabel='r magnitude')\n",
    "ax.invert_yaxis()"
   ]
  },
  {
   "cell_type": "code",
   "execution_count": null,
   "metadata": {},
   "outputs": [],
   "source": []
  }
 ],
 "metadata": {
  "kernelspec": {
   "display_name": "Python 3",
   "language": "python",
   "name": "python3"
  },
  "language_info": {
   "codemirror_mode": {
    "name": "ipython",
    "version": 3
   },
   "file_extension": ".py",
   "mimetype": "text/x-python",
   "name": "python",
   "nbconvert_exporter": "python",
   "pygments_lexer": "ipython3",
   "version": "3.7.3"
  }
 },
 "nbformat": 4,
 "nbformat_minor": 2
}
