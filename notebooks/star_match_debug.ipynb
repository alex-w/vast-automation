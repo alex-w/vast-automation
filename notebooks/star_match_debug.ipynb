{
 "cells": [
  {
   "cell_type": "markdown",
   "metadata": {},
   "source": [
    "# 2014\n",
    "\\# resultdir: /home/josch/data/wwcra/result/2014_filtered_test/, vastdir: /home/josch/data/wwcra/vast/2014_ref435945/, vsx stars: 1, other stars: 32\n",
    "\\# our_name,ra,dec,ucac4_name,ucac4_ra,ucac4_dec,minmax,min,max,var_type,period,period_err,epoch\n",
    "RMH-HMB-24,271.0137880,-43.5515339,UCAC4 233-155698,271.0136300,-43.5512580,,13.0,12.8,DSCT,0.29484,0.00065,2456817.58259\n",
    "\n",
    "# 2013\n",
    "\n",
    "\\# resultdir: /home/josch/data/wwcra/result/2013_bestaper1/, vastdir: /home/josch/data/wwcra/vast/2013_bestaper/, vsx stars: 68, other stars: 34\n",
    "\\# our_name,ra,dec,ucac4_name,ucac4_ra,ucac4_dec,minmax,min,max,var_type,period,period_err,epoch\n",
    "RMH-HMB-24,271.0156859,-43.5482095,UCAC4 233-155696,271.0133100,-43.5485520,,13.0,12.8,DSCT,0.29484,0.00065,2456817.58259"
   ]
  },
  {
   "cell_type": "code",
   "execution_count": 10,
   "metadata": {},
   "outputs": [],
   "source": [
    "from astropy.coordinates import SkyCoord\n",
    "import os\n",
    "os.chdir('/home/jovyan/work/src')\n",
    "import do_calibration\n",
    "import reading\n",
    "import utils\n",
    "from star_description import StarDescription\n",
    "\n",
    "%load_ext autoreload\n",
    "%autoreload 2\n"
   ]
  },
  {
   "cell_type": "markdown",
   "metadata": {},
   "source": [
    "# Create all real and ucac4 coords"
   ]
  },
  {
   "cell_type": "code",
   "execution_count": 11,
   "metadata": {},
   "outputs": [],
   "source": [
    "ours2013 = SkyCoord(271.0156859,-43.5482095,  unit='deg')\n",
    "ucac2013 = SkyCoord(271.0133100,-43.5485520,  unit='deg')\n",
    "ours2014 = SkyCoord(271.0137880,-43.5515339,  unit='deg')\n",
    "ucac2014 = SkyCoord(271.0137880,-43.5515339,  unit='deg')\n",
    "realucac = ucac2013"
   ]
  },
  {
   "cell_type": "markdown",
   "metadata": {},
   "source": [
    "# Distances"
   ]
  },
  {
   "cell_type": "code",
   "execution_count": 12,
   "metadata": {},
   "outputs": [
    {
     "name": "stdout",
     "output_type": "stream",
     "text": [
      "Distance between ours and ucac for 2013: 0.0017557653733838525 deg\n",
      "Distance between ours and ucac for 2014: 0.0 deg\n",
      "Distance between ours2014 and real ucac coords: 0.0030019575742378166 deg\n"
     ]
    }
   ],
   "source": [
    "print(f\"Distance between ours and ucac for 2013: {ours2013.separation(ucac2013)}\")\n",
    "print(f\"Distance between ours and ucac for 2014: {ours2014.separation(ucac2014)}\")\n",
    "print(f\"Distance between ours2014 and real ucac coords: {ours2014.separation(realucac)}\")"
   ]
  },
  {
   "cell_type": "code",
   "execution_count": null,
   "metadata": {},
   "outputs": [],
   "source": []
  }
 ],
 "metadata": {
  "kernelspec": {
   "display_name": "Python 3",
   "language": "python",
   "name": "python3"
  },
  "language_info": {
   "codemirror_mode": {
    "name": "ipython",
    "version": 3
   },
   "file_extension": ".py",
   "mimetype": "text/x-python",
   "name": "python",
   "nbconvert_exporter": "python",
   "pygments_lexer": "ipython3",
   "version": "3.7.6"
  }
 },
 "nbformat": 4,
 "nbformat_minor": 4
}
