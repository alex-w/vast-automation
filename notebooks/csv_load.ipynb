{
 "cells": [
  {
   "cell_type": "code",
   "execution_count": 24,
   "metadata": {},
   "outputs": [
    {
     "name": "stdout",
     "output_type": "stream",
     "text": [
      "The autoreload extension is already loaded. To reload it, use:\n",
      "  %reload_ext autoreload\n"
     ]
    }
   ],
   "source": [
    "import pandas as pd\n",
    "import os\n",
    "os.chdir('/home/jovyan/work/src')\n",
    "from ucac4 import UCAC4, MinimalStarTuple\n",
    "%load_ext autoreload\n",
    "%autoreload 2\n"
   ]
  },
  {
   "cell_type": "code",
   "execution_count": 25,
   "metadata": {},
   "outputs": [
    {
     "data": {
      "text/html": [
       "<div>\n",
       "<style scoped>\n",
       "    .dataframe tbody tr th:only-of-type {\n",
       "        vertical-align: middle;\n",
       "    }\n",
       "\n",
       "    .dataframe tbody tr th {\n",
       "        vertical-align: top;\n",
       "    }\n",
       "\n",
       "    .dataframe thead th {\n",
       "        text-align: right;\n",
       "    }\n",
       "</style>\n",
       "<table border=\"1\" class=\"dataframe\">\n",
       "  <thead>\n",
       "    <tr style=\"text-align: right;\">\n",
       "      <th></th>\n",
       "      <th>our_name</th>\n",
       "      <th>ra</th>\n",
       "      <th>dec</th>\n",
       "      <th>ucac4_name</th>\n",
       "      <th>ucac4_force</th>\n",
       "      <th>minmax</th>\n",
       "      <th>min</th>\n",
       "      <th>max</th>\n",
       "      <th>var_type</th>\n",
       "      <th>period</th>\n",
       "      <th>period_err</th>\n",
       "      <th>epoch</th>\n",
       "    </tr>\n",
       "  </thead>\n",
       "  <tbody>\n",
       "    <tr>\n",
       "      <th>0</th>\n",
       "      <td>RMH-HMB-10</td>\n",
       "      <td>271.374506</td>\n",
       "      <td>-44.142257</td>\n",
       "      <td>UCAC4 230-160921</td>\n",
       "      <td>False</td>\n",
       "      <td>14.7  V 16.3  V</td>\n",
       "      <td>16.3</td>\n",
       "      <td>14.7</td>\n",
       "      <td>RRAB</td>\n",
       "      <td>0.62469</td>\n",
       "      <td>0.00001</td>\n",
       "      <td>2456412.84</td>\n",
       "    </tr>\n",
       "    <tr>\n",
       "      <th>1</th>\n",
       "      <td>RMH-HMB-18</td>\n",
       "      <td>271.849185</td>\n",
       "      <td>-43.607917</td>\n",
       "      <td>UCAC4 232-148844</td>\n",
       "      <td>False</td>\n",
       "      <td>NaN</td>\n",
       "      <td>15.2</td>\n",
       "      <td>14.5</td>\n",
       "      <td>L</td>\n",
       "      <td>57.77498</td>\n",
       "      <td>NaN</td>\n",
       "      <td>NaN</td>\n",
       "    </tr>\n",
       "    <tr>\n",
       "      <th>2</th>\n",
       "      <td>RMH-HMB-19</td>\n",
       "      <td>271.850742</td>\n",
       "      <td>-44.056054</td>\n",
       "      <td>UCAC4 230-161913</td>\n",
       "      <td>True</td>\n",
       "      <td>NaN</td>\n",
       "      <td>NaN</td>\n",
       "      <td>NaN</td>\n",
       "      <td>EA</td>\n",
       "      <td>4.66418</td>\n",
       "      <td>0.03100</td>\n",
       "      <td>2456413.44</td>\n",
       "    </tr>\n",
       "  </tbody>\n",
       "</table>\n",
       "</div>"
      ],
      "text/plain": [
       "     our_name          ra        dec        ucac4_name  ucac4_force  \\\n",
       "0  RMH-HMB-10  271.374506 -44.142257  UCAC4 230-160921        False   \n",
       "1  RMH-HMB-18  271.849185 -43.607917  UCAC4 232-148844        False   \n",
       "2  RMH-HMB-19  271.850742 -44.056054  UCAC4 230-161913         True   \n",
       "\n",
       "            minmax   min   max var_type    period  period_err       epoch  \n",
       "0  14.7  V 16.3  V  16.3  14.7     RRAB   0.62469     0.00001  2456412.84  \n",
       "1              NaN  15.2  14.5        L  57.77498         NaN         NaN  \n",
       "2              NaN   NaN   NaN       EA   4.66418     0.03100  2456413.44  "
      ]
     },
     "execution_count": 25,
     "metadata": {},
     "output_type": "execute_result"
    }
   ],
   "source": [
    "df = pd.read_csv(\n",
    "    \"../runscripts/test-localid.csv\",\n",
    "    sep=\",\",\n",
    "    comment=\"#\",\n",
    "    names=[\n",
    "        \"our_name\",\n",
    "        \"ra\",\n",
    "        \"dec\",\n",
    "        \"ucac4_name\",\n",
    "        \"ucac4_force\",\n",
    "        \"minmax\",\n",
    "        \"min\",\n",
    "        \"max\",\n",
    "        \"var_type\",\n",
    "        \"period\",\n",
    "        \"period_err\",\n",
    "        \"epoch\",\n",
    "    ],\n",
    "    dtype={\n",
    "        \"ra\": float,\n",
    "        \"dec\": float,\n",
    "        \"minmax\": str,\n",
    "        \"epoch\": float,\n",
    "    },\n",
    "    skipinitialspace=True,\n",
    "    warn_bad_lines=True,\n",
    ")\n",
    "df"
   ]
  },
  {
   "cell_type": "code",
   "execution_count": 26,
   "metadata": {},
   "outputs": [
    {
     "ename": "TypeError",
     "evalue": "get_ra_dec_from_id() missing 1 required positional argument: 'ucac4_id'",
     "output_type": "error",
     "traceback": [
      "\u001b[0;31m---------------------------------------------------------------------------\u001b[0m",
      "\u001b[0;31mTypeError\u001b[0m                                 Traceback (most recent call last)",
      "\u001b[0;32m<ipython-input-26-acdc735ab4f4>\u001b[0m in \u001b[0;36m<module>\u001b[0;34m\u001b[0m\n\u001b[0;32m----> 1\u001b[0;31m \u001b[0mdf\u001b[0m\u001b[0;34m.\u001b[0m\u001b[0mloc\u001b[0m\u001b[0;34m[\u001b[0m\u001b[0mdf\u001b[0m\u001b[0;34m[\u001b[0m\u001b[0;34m\"ucac4_force\"\u001b[0m\u001b[0;34m]\u001b[0m\u001b[0;34m,\u001b[0m \u001b[0;34m\"chosenRA\"\u001b[0m\u001b[0;34m]\u001b[0m \u001b[0;34m=\u001b[0m \u001b[0mUCAC4\u001b[0m\u001b[0;34m.\u001b[0m\u001b[0mget_ra_dec_from_id\u001b[0m\u001b[0;34m(\u001b[0m\u001b[0mdf\u001b[0m\u001b[0;34m[\u001b[0m\u001b[0;34m\"ucac4_name\"\u001b[0m\u001b[0;34m]\u001b[0m\u001b[0;34m)\u001b[0m\u001b[0;34m\u001b[0m\u001b[0;34m\u001b[0m\u001b[0m\n\u001b[0m",
      "\u001b[0;31mTypeError\u001b[0m: get_ra_dec_from_id() missing 1 required positional argument: 'ucac4_id'"
     ]
    }
   ],
   "source": [
    "df.loc[df[\"ucac4_force\"], \"chosenRA\"] = UCAC4.get_ra_dec_from_id(df[\"ucac4_name\"])\n"
   ]
  },
  {
   "cell_type": "code",
   "execution_count": null,
   "metadata": {},
   "outputs": [],
   "source": []
  }
 ],
 "metadata": {
  "kernelspec": {
   "display_name": "Python 3",
   "language": "python",
   "name": "python3"
  },
  "language_info": {
   "codemirror_mode": {
    "name": "ipython",
    "version": 3
   },
   "file_extension": ".py",
   "mimetype": "text/x-python",
   "name": "python",
   "nbconvert_exporter": "python",
   "pygments_lexer": "ipython3",
   "version": "3.7.3"
  }
 },
 "nbformat": 4,
 "nbformat_minor": 4
}
