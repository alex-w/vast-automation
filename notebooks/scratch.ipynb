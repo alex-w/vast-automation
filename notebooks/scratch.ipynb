{
 "cells": [
  {
   "cell_type": "code",
   "execution_count": 8,
   "metadata": {},
   "outputs": [
    {
     "ename": "AttributeError",
     "evalue": "'function' object has no attribute 'settings'",
     "output_type": "error",
     "traceback": [
      "\u001b[0;31m---------------------------------------------------------------------------\u001b[0m",
      "\u001b[0;31mAttributeError\u001b[0m                            Traceback (most recent call last)",
      "\u001b[0;32m<ipython-input-8-007b088c883a>\u001b[0m in \u001b[0;36m<module>\u001b[0;34m\u001b[0m\n\u001b[1;32m      1\u001b[0m \u001b[0;32mimport\u001b[0m \u001b[0mos\u001b[0m\u001b[0;34m\u001b[0m\u001b[0;34m\u001b[0m\u001b[0m\n\u001b[1;32m      2\u001b[0m \u001b[0mos\u001b[0m\u001b[0;34m.\u001b[0m\u001b[0mchdir\u001b[0m\u001b[0;34m(\u001b[0m\u001b[0;34m'/home/jovyan/work/src'\u001b[0m\u001b[0;34m)\u001b[0m\u001b[0;34m\u001b[0m\u001b[0;34m\u001b[0m\u001b[0m\n\u001b[0;32m----> 3\u001b[0;31m \u001b[0;32mimport\u001b[0m \u001b[0mdo_calibration\u001b[0m\u001b[0;34m\u001b[0m\u001b[0;34m\u001b[0m\u001b[0m\n\u001b[0m\u001b[1;32m      4\u001b[0m \u001b[0;32mimport\u001b[0m \u001b[0mimportlib\u001b[0m\u001b[0;34m\u001b[0m\u001b[0;34m\u001b[0m\u001b[0m\n\u001b[1;32m      5\u001b[0m \u001b[0mimportlib\u001b[0m\u001b[0;34m.\u001b[0m\u001b[0mreload\u001b[0m\u001b[0;34m(\u001b[0m\u001b[0mdo_calibration\u001b[0m\u001b[0;34m)\u001b[0m\u001b[0;34m\u001b[0m\u001b[0;34m\u001b[0m\u001b[0m\n",
      "\u001b[0;32m~/work/src/do_calibration.py\u001b[0m in \u001b[0;36m<module>\u001b[0;34m\u001b[0m\n\u001b[1;32m      1\u001b[0m \u001b[0;32mimport\u001b[0m \u001b[0mos\u001b[0m\u001b[0;34m\u001b[0m\u001b[0;34m\u001b[0m\u001b[0m\n\u001b[1;32m      2\u001b[0m \u001b[0;32mfrom\u001b[0m \u001b[0minit_loader\u001b[0m \u001b[0;32mimport\u001b[0m \u001b[0minit\u001b[0m\u001b[0;34m\u001b[0m\u001b[0;34m\u001b[0m\u001b[0m\n\u001b[0;32m----> 3\u001b[0;31m \u001b[0;32mimport\u001b[0m \u001b[0mreading\u001b[0m\u001b[0;34m\u001b[0m\u001b[0;34m\u001b[0m\u001b[0m\n\u001b[0m\u001b[1;32m      4\u001b[0m \u001b[0;32mimport\u001b[0m \u001b[0mlogging\u001b[0m\u001b[0;34m\u001b[0m\u001b[0;34m\u001b[0m\u001b[0m\n\u001b[1;32m      5\u001b[0m \u001b[0;32mfrom\u001b[0m \u001b[0mstar_description\u001b[0m \u001b[0;32mimport\u001b[0m \u001b[0mStarDescription\u001b[0m\u001b[0;34m\u001b[0m\u001b[0;34m\u001b[0m\u001b[0m\n",
      "\u001b[0;32m~/work/src/reading.py\u001b[0m in \u001b[0;36m<module>\u001b[0;34m\u001b[0m\n\u001b[1;32m     11\u001b[0m \u001b[0;32mimport\u001b[0m \u001b[0mpickle\u001b[0m\u001b[0;34m\u001b[0m\u001b[0;34m\u001b[0m\u001b[0m\n\u001b[1;32m     12\u001b[0m \u001b[0;34m\u001b[0m\u001b[0m\n\u001b[0;32m---> 13\u001b[0;31m \u001b[0;32mdef\u001b[0m \u001b[0mread_lightcurve\u001b[0m\u001b[0;34m(\u001b[0m\u001b[0mstar\u001b[0m\u001b[0;34m,\u001b[0m\u001b[0mfilter\u001b[0m\u001b[0;34m=\u001b[0m\u001b[0;32mTrue\u001b[0m\u001b[0;34m,\u001b[0m\u001b[0mpreprocess\u001b[0m\u001b[0;34m=\u001b[0m\u001b[0;32mTrue\u001b[0m\u001b[0;34m,\u001b[0m \u001b[0mdirectory\u001b[0m\u001b[0;34m=\u001b[0m\u001b[0minit\u001b[0m\u001b[0;34m.\u001b[0m\u001b[0msettings\u001b[0m\u001b[0;34m.\u001b[0m\u001b[0mlightcurvedir\u001b[0m\u001b[0;34m)\u001b[0m\u001b[0;34m:\u001b[0m\u001b[0;34m\u001b[0m\u001b[0;34m\u001b[0m\u001b[0m\n\u001b[0m\u001b[1;32m     14\u001b[0m     \u001b[0;32mtry\u001b[0m\u001b[0;34m:\u001b[0m\u001b[0;34m\u001b[0m\u001b[0;34m\u001b[0m\u001b[0m\n\u001b[1;32m     15\u001b[0m         \u001b[0;31m#print(\"Reading lightcurve\", star, init.lightcurve_dir + 'curve_' + str(star).zfill(5) + '.txt')\u001b[0m\u001b[0;34m\u001b[0m\u001b[0;34m\u001b[0m\u001b[0;34m\u001b[0m\u001b[0m\n",
      "\u001b[0;31mAttributeError\u001b[0m: 'function' object has no attribute 'settings'"
     ]
    }
   ],
   "source": [
    "import os\n",
    "os.chdir('/home/jovyan/work/src')\n",
    "import do_calibration\n",
    "import importlib\n",
    "importlib.reload(do_calibration)\n"
   ]
  },
  {
   "cell_type": "code",
   "execution_count": 9,
   "metadata": {},
   "outputs": [
    {
     "name": "stdout",
     "output_type": "stream",
     "text": [
      "2320601\n",
      "2284083\n",
      "2241479\n",
      "1353554\n",
      "1233366\n",
      "1223501\n",
      "1374003\n",
      "2241231\n",
      "2273350\n",
      "2322380\n",
      "[('kout000009.fts', 2322380), ('kout000008.fts', 2320601), ('kout000034.fts', 2284083), ('kout000035.fts', 2273350), ('kout000020.fts', 2241479), ('kout000021.fts', 2241231), ('kout000038.png', 1374003), ('kout000039.png', 1353554), ('kout000011.png', 1233366), ('kout000010.png', 1223501)]\n"
     ]
    }
   ],
   "source": [
    "import gzip\n",
    "\n",
    "basedir = './inputfiles/testing/converted_fits/'\n",
    "count=0\n",
    "result = {}\n",
    "for filename in os.listdir(basedir):\n",
    "    if count < 10:\n",
    "        count=count+1\n",
    "        with open(basedir+filename, 'rb') as f_in:\n",
    "            length = len(gzip.compress(f_in.read()))\n",
    "            result[filename] = length\n",
    "            print(length)\n",
    "            \n",
    "sorted_by_value = sorted(result.items(), key=lambda kv: kv[1], reverse=True)\n",
    "print(sorted_by_value)"
   ]
  },
  {
   "cell_type": "code",
   "execution_count": 3,
   "metadata": {},
   "outputs": [],
   "source": [
    "import fits2bitmap\n"
   ]
  },
  {
   "cell_type": "code",
   "execution_count": 4,
   "metadata": {},
   "outputs": [
    {
     "ename": "ValueError",
     "evalue": "Format 'fts' is not supported (supported formats: eps, jpeg, jpg, pdf, pgf, png, ps, raw, rgba, svg, svgz, tif, tiff)",
     "output_type": "error",
     "traceback": [
      "\u001b[0;31m---------------------------------------------------------------------------\u001b[0m",
      "\u001b[0;31mValueError\u001b[0m                                Traceback (most recent call last)",
      "\u001b[0;32m<ipython-input-4-7328ffe3130f>\u001b[0m in \u001b[0;36m<module>\u001b[0;34m()\u001b[0m\n\u001b[1;32m      1\u001b[0m \u001b[0mbasedir\u001b[0m \u001b[0;34m=\u001b[0m \u001b[0;34m'./inputfiles/testing/converted_fits/'\u001b[0m\u001b[0;34m\u001b[0m\u001b[0m\n\u001b[0;32m----> 2\u001b[0;31m \u001b[0mfits2bitmap\u001b[0m\u001b[0;34m.\u001b[0m\u001b[0mfits2bitmap\u001b[0m\u001b[0;34m(\u001b[0m\u001b[0mbasedir\u001b[0m\u001b[0;34m+\u001b[0m\u001b[0;34m'kout000021.fts'\u001b[0m\u001b[0;34m,\u001b[0m \u001b[0mscale\u001b[0m\u001b[0;34m=\u001b[0m\u001b[0;34m'log'\u001b[0m\u001b[0;34m)\u001b[0m\u001b[0;34m\u001b[0m\u001b[0m\n\u001b[0m",
      "\u001b[0;32m~/work/fits2bitmap.py\u001b[0m in \u001b[0;36mfits2bitmap\u001b[0;34m(filename, exten, out_fn, scale, power, asinh_a, min_cut, max_cut, min_percent, max_percent, percent, cmap)\u001b[0m\n\u001b[1;32m     97\u001b[0m     \u001b[0;31m#                            max_percent=max_percent, percent=percent)\u001b[0m\u001b[0;34m\u001b[0m\u001b[0;34m\u001b[0m\u001b[0m\n\u001b[1;32m     98\u001b[0m \u001b[0;34m\u001b[0m\u001b[0m\n\u001b[0;32m---> 99\u001b[0;31m     \u001b[0mmimg\u001b[0m\u001b[0;34m.\u001b[0m\u001b[0mimsave\u001b[0m\u001b[0;34m(\u001b[0m\u001b[0mout_fn\u001b[0m\u001b[0;34m,\u001b[0m \u001b[0mimage\u001b[0m\u001b[0;34m,\u001b[0m \u001b[0mcmap\u001b[0m\u001b[0;34m=\u001b[0m\u001b[0mcmap\u001b[0m\u001b[0;34m)\u001b[0m\u001b[0;34m\u001b[0m\u001b[0m\n\u001b[0m\u001b[1;32m    100\u001b[0m     \u001b[0mlog\u001b[0m\u001b[0;34m.\u001b[0m\u001b[0minfo\u001b[0m\u001b[0;34m(\u001b[0m\u001b[0;34m'Saved file to {0}'\u001b[0m\u001b[0;34m.\u001b[0m\u001b[0mformat\u001b[0m\u001b[0;34m(\u001b[0m\u001b[0mout_fn\u001b[0m\u001b[0;34m)\u001b[0m\u001b[0;34m)\u001b[0m\u001b[0;34m\u001b[0m\u001b[0m\n\u001b[1;32m    101\u001b[0m     \u001b[0;32mreturn\u001b[0m\u001b[0;34m\u001b[0m\u001b[0m\n",
      "\u001b[0;32m/opt/conda/lib/python3.6/site-packages/matplotlib/image.py\u001b[0m in \u001b[0;36mimsave\u001b[0;34m(fname, arr, vmin, vmax, cmap, format, origin, dpi)\u001b[0m\n\u001b[1;32m   1430\u001b[0m         fig.figimage(arr, cmap=cmap, vmin=vmin, vmax=vmax, origin=origin,\n\u001b[1;32m   1431\u001b[0m                      resize=True)\n\u001b[0;32m-> 1432\u001b[0;31m         \u001b[0mfig\u001b[0m\u001b[0;34m.\u001b[0m\u001b[0msavefig\u001b[0m\u001b[0;34m(\u001b[0m\u001b[0mfname\u001b[0m\u001b[0;34m,\u001b[0m \u001b[0mdpi\u001b[0m\u001b[0;34m=\u001b[0m\u001b[0mdpi\u001b[0m\u001b[0;34m,\u001b[0m \u001b[0mformat\u001b[0m\u001b[0;34m=\u001b[0m\u001b[0mformat\u001b[0m\u001b[0;34m,\u001b[0m \u001b[0mtransparent\u001b[0m\u001b[0;34m=\u001b[0m\u001b[0;32mTrue\u001b[0m\u001b[0;34m)\u001b[0m\u001b[0;34m\u001b[0m\u001b[0m\n\u001b[0m\u001b[1;32m   1433\u001b[0m \u001b[0;34m\u001b[0m\u001b[0m\n\u001b[1;32m   1434\u001b[0m \u001b[0;34m\u001b[0m\u001b[0m\n",
      "\u001b[0;32m/opt/conda/lib/python3.6/site-packages/matplotlib/figure.py\u001b[0m in \u001b[0;36msavefig\u001b[0;34m(self, fname, **kwargs)\u001b[0m\n\u001b[1;32m   2033\u001b[0m             \u001b[0mself\u001b[0m\u001b[0;34m.\u001b[0m\u001b[0mset_frameon\u001b[0m\u001b[0;34m(\u001b[0m\u001b[0mframeon\u001b[0m\u001b[0;34m)\u001b[0m\u001b[0;34m\u001b[0m\u001b[0m\n\u001b[1;32m   2034\u001b[0m \u001b[0;34m\u001b[0m\u001b[0m\n\u001b[0;32m-> 2035\u001b[0;31m         \u001b[0mself\u001b[0m\u001b[0;34m.\u001b[0m\u001b[0mcanvas\u001b[0m\u001b[0;34m.\u001b[0m\u001b[0mprint_figure\u001b[0m\u001b[0;34m(\u001b[0m\u001b[0mfname\u001b[0m\u001b[0;34m,\u001b[0m \u001b[0;34m**\u001b[0m\u001b[0mkwargs\u001b[0m\u001b[0;34m)\u001b[0m\u001b[0;34m\u001b[0m\u001b[0m\n\u001b[0m\u001b[1;32m   2036\u001b[0m \u001b[0;34m\u001b[0m\u001b[0m\n\u001b[1;32m   2037\u001b[0m         \u001b[0;32mif\u001b[0m \u001b[0mframeon\u001b[0m\u001b[0;34m:\u001b[0m\u001b[0;34m\u001b[0m\u001b[0m\n",
      "\u001b[0;32m/opt/conda/lib/python3.6/site-packages/matplotlib/backend_bases.py\u001b[0m in \u001b[0;36mprint_figure\u001b[0;34m(self, filename, dpi, facecolor, edgecolor, orientation, format, **kwargs)\u001b[0m\n\u001b[1;32m   2171\u001b[0m \u001b[0;34m\u001b[0m\u001b[0m\n\u001b[1;32m   2172\u001b[0m         \u001b[0;31m# get canvas object and print method for format\u001b[0m\u001b[0;34m\u001b[0m\u001b[0;34m\u001b[0m\u001b[0m\n\u001b[0;32m-> 2173\u001b[0;31m         \u001b[0mcanvas\u001b[0m \u001b[0;34m=\u001b[0m \u001b[0mself\u001b[0m\u001b[0;34m.\u001b[0m\u001b[0m_get_output_canvas\u001b[0m\u001b[0;34m(\u001b[0m\u001b[0mformat\u001b[0m\u001b[0;34m)\u001b[0m\u001b[0;34m\u001b[0m\u001b[0m\n\u001b[0m\u001b[1;32m   2174\u001b[0m         \u001b[0mprint_method\u001b[0m \u001b[0;34m=\u001b[0m \u001b[0mgetattr\u001b[0m\u001b[0;34m(\u001b[0m\u001b[0mcanvas\u001b[0m\u001b[0;34m,\u001b[0m \u001b[0;34m'print_%s'\u001b[0m \u001b[0;34m%\u001b[0m \u001b[0mformat\u001b[0m\u001b[0;34m)\u001b[0m\u001b[0;34m\u001b[0m\u001b[0m\n\u001b[1;32m   2175\u001b[0m \u001b[0;34m\u001b[0m\u001b[0m\n",
      "\u001b[0;32m/opt/conda/lib/python3.6/site-packages/matplotlib/backend_bases.py\u001b[0m in \u001b[0;36m_get_output_canvas\u001b[0;34m(self, fmt)\u001b[0m\n\u001b[1;32m   2103\u001b[0m         raise ValueError(\n\u001b[1;32m   2104\u001b[0m             \u001b[0;34m\"Format {!r} is not supported (supported formats: {})\"\u001b[0m\u001b[0;34m\u001b[0m\u001b[0m\n\u001b[0;32m-> 2105\u001b[0;31m             .format(fmt, \", \".join(sorted(self.get_supported_filetypes()))))\n\u001b[0m\u001b[1;32m   2106\u001b[0m \u001b[0;34m\u001b[0m\u001b[0m\n\u001b[1;32m   2107\u001b[0m     def print_figure(self, filename, dpi=None, facecolor=None, edgecolor=None,\n",
      "\u001b[0;31mValueError\u001b[0m: Format 'fts' is not supported (supported formats: eps, jpeg, jpg, pdf, pgf, png, ps, raw, rgba, svg, svgz, tif, tiff)"
     ]
    }
   ],
   "source": [
    "basedir = './inputfiles/testing/converted_fits/'\n",
    "fits2bitmap.fits2bitmap(basedir+'kout000021.fts', scale='log')\n"
   ]
  },
  {
   "cell_type": "code",
   "execution_count": 5,
   "metadata": {},
   "outputs": [
    {
     "name": "stdout",
     "output_type": "stream",
     "text": [
      "[62]\n"
     ]
    }
   ],
   "source": [
    "import glob\n",
    "the_dir = glob.glob(basedir+'*.fts')\n",
    "the_dir.sort()\n",
    "#print(the_dir)\n",
    "#index = the_dir.index('kout000069.fts')\n",
    "indices = [i for i, elem in enumerate(the_dir) if 'kout000069.fts' in elem]\n",
    "print(indices)"
   ]
  },
  {
   "cell_type": "code",
   "execution_count": 6,
   "metadata": {},
   "outputs": [],
   "source": [
    "import pandas as pd\n",
    "\n",
    "basedir = './inputfiles/testing/results/lightcurves/'\n",
    "files = glob.glob(basedir+'*.txt')\n",
    "#print(files)\n",
    "result = {}\n",
    "for file in files:\n",
    "    df = pd.read_csv(file, skiprows=[1], sep=' ')\n",
    "    length = len(df.index)\n",
    "    df = df[df['V-C'] < 99]\n",
    "    filterlength = len(df.index)\n",
    "    #print (filterlength/length)\n",
    "    result[file] = [filterlength, length]\n",
    "#df.head()   \n",
    "#print(result)"
   ]
  },
  {
   "cell_type": "code",
   "execution_count": 7,
   "metadata": {},
   "outputs": [
    {
     "name": "stdout",
     "output_type": "stream",
     "text": [
      "./inputfiles/testing/results/lightcurves/curve_08812.txt 92\n",
      "./inputfiles/testing/results/lightcurves/curve_03001.txt 92\n"
     ]
    }
   ],
   "source": [
    "for key in result:\n",
    "    if result[key][1] != 93:\n",
    "        print(key, result[key][1])"
   ]
  },
  {
   "cell_type": "code",
   "execution_count": 44,
   "metadata": {},
   "outputs": [
    {
     "name": "stdout",
     "output_type": "stream",
     "text": [
      "10000 10000\n",
      "converted values\n"
     ]
    },
    {
     "data": {
      "image/png": "[encoded data removed]",
      "text/plain": [
       "<Figure size 432x288 with 1 Axes>"
      ]
     },
     "metadata": {},
     "output_type": "display_data"
    }
   ],
   "source": [
    "import matplotlib\n",
    "import numpy as np\n",
    "import matplotlib.pyplot as plt\n",
    "%matplotlib inline\n",
    "\n",
    "keys = result.keys()\n",
    "values = list(map(lambda x: x[0]/x[1]*100, result.values()))\n",
    "print(len(keys), len(values))\n",
    "print('converted values')\n",
    "colors = list(\"rgbcmyk\")\n",
    "sigma = 15 \n",
    "num_bins = 50\n",
    "mu = 100  # mean of distribution\n",
    "\n",
    "fig, ax = plt.subplots()\n",
    "\n",
    "# the histogram of the data\n",
    "n, bins, patches = ax.hist(values, num_bins, density=1)\n",
    "\n",
    "# add a 'best fit' line\n",
    "#y = ((1 / (np.sqrt(2 * np.pi) * sigma)) *\n",
    "#     np.exp(-0.5 * (1 / sigma * (bins - mu))**2))\n",
    "#ax.plot(bins, range(1,50), '--')\n",
    "ax.set_xlabel('% of star detections,   on which star was found')\n",
    "ax.set_ylabel('Nr of stars')\n",
    "ax.set_title(r'Cumulative histogram of star detections')\n",
    "ax.grid(True)\n",
    "#plt.xticks(np.arange(0, 110, step=10))\n",
    "major_ticks = np.arange(0, 11000, 2000)\n",
    "minor_ticks = np.arange(0, 11000, 1000)\n",
    "ax.set_yticks(major_ticks)\n",
    "ax.set_yticks(minor_ticks, minor=True)\n",
    "plt.minorticks_on()\n",
    "plt.xlim(0,100)\n",
    "plt.ylim(0,10000)\n",
    "#plt.yticks(np.arange(0, 11000, step=1000))\n",
    "# Tweak spacing to prevent clipping of ylabel\n",
    "#fig.tight_layout()\n",
    "plt.hist(bins=10, x=values, cumulative=1)\n",
    "plt.show()\n",
    "\n",
    "\n",
    "\n",
    "\n"
   ]
  },
  {
   "cell_type": "code",
   "execution_count": 45,
   "metadata": {},
   "outputs": [],
   "source": [
    "fig.savefig('cumul_histo_detections.png')\n",
    "\n"
   ]
  },
  {
   "cell_type": "code",
   "execution_count": 122,
   "metadata": {},
   "outputs": [
    {
     "name": "stdout",
     "output_type": "stream",
     "text": [
      "The autoreload extension is already loaded. To reload it, use:\n",
      "  %reload_ext autoreload\n"
     ]
    }
   ],
   "source": [
    "import pandas as pd\n",
    "import numpy as np\n",
    "import os\n",
    "os.chdir('/home/jovyan/work')\n",
    "import sys\n",
    "import init\n",
    "import struct\n",
    "from collections import namedtuple\n",
    "import do_photometry\n",
    "import matplotlib\n",
    "import matplotlib.pyplot as plt\n",
    "\n",
    "import importlib\n",
    "importlib.reload(do_photometry)\n",
    "\n",
    "\n",
    "%matplotlib inline\n",
    "plt.style.use('seaborn')\n",
    "pd.options.mode.chained_assignment = None\n",
    "%load_ext autoreload\n",
    "%autoreload 2\n",
    "%reload_ext autoreload"
   ]
  },
  {
   "cell_type": "code",
   "execution_count": 125,
   "metadata": {},
   "outputs": [
    {
     "name": "stdout",
     "output_type": "stream",
     "text": [
      "0 ./current/matched_photometry/match000065.pht\n",
      "Date from header: 2457238.665011574\n",
      "1 ./current/matched_photometry/match000074.pht\n",
      "Date from header: 2457238.6979282405\n",
      "2 ./current/matched_photometry/match000091.pht\n",
      "Date from header: 2457238.7604050925\n",
      "3 ./current/matched_photometry/match000087.pht\n",
      "Date from header: 2457238.7456712965\n",
      "4 ./current/matched_photometry/match000002.pht\n",
      "Date from header: 2457236.687951389\n",
      "5 ./current/matched_photometry/match000076.pht\n",
      "Date from header: 2457238.7052777777\n",
      "6 ./current/matched_photometry/match000071.pht\n",
      "Date from header: 2457238.68693287\n",
      "7 ./current/matched_photometry/match000079.pht\n",
      "Date from header: 2457238.7163078706\n",
      "8 ./current/matched_photometry/match000004.pht\n",
      "Date from header: 2457236.694953704\n",
      "Nr of stars for aperture 2: 10000\n",
      "Mb used: 16.4794921875\n",
      "Entry for First aperture, first star: [[  1.76412157e+01   1.32658958e-01]\n",
      " [  1.64103711e+01   4.99662161e-02]\n",
      " [  1.05086390e+01   9.26852226e-04]\n",
      " [  1.58724100e+01   3.15424800e-02]\n",
      " [  1.57276795e+01   3.04245949e-02]\n",
      " [  1.64346753e+01   5.08242249e-02]\n",
      " [  1.64240402e+01   4.94655371e-02]\n",
      " [  1.64875824e+01   5.45607209e-02]\n",
      " [  1.57759532e+01   3.18218470e-02]]\n",
      "Shape for collect: (12, 10000, 9, 2)\n",
      "[ 7.94114136  8.24493513  7.01643136  7.10613297  7.26659482  8.10928824\n",
      "  7.40266501  7.63682063  7.50471882  7.22648898  8.85147541  8.27259906\n",
      "  7.58114645  6.89759694  7.68685625  7.71357006  7.11158139  7.46701971\n",
      "  8.22368024  8.32055583]\n",
      "(12, 10000)\n",
      "23\n"
     ]
    }
   ],
   "source": [
    "stddevs, collect, apertures, fwhm = do_photometry.main()"
   ]
  },
  {
   "cell_type": "markdown",
   "metadata": {},
   "source": [
    "Calculating aperture using the daophot FWHM trick (http://www.mso.anu.edu.au/~jerjen/daophot.html)"
   ]
  },
  {
   "cell_type": "code",
   "execution_count": 141,
   "metadata": {},
   "outputs": [
    {
     "name": "stdout",
     "output_type": "stream",
     "text": [
      "[[ 3.          2.28783729  0.63264661]\n",
      " [ 3.          2.15013107  0.55522412]\n",
      " [ 3.          2.30184593  0.70085257]\n",
      " [ 3.          2.231127    0.61483809]\n",
      " [ 3.          2.12644366  0.54690271]\n",
      " [ 3.          2.30270797  0.66515957]\n",
      " [ 3.          2.22791556  0.60204049]\n",
      " [ 3.          2.26280816  0.62869959]\n",
      " [ 3.          2.23782441  0.62523245]] (2.0, 2.73, 3.82, 5.27, 7.09, 9.27, 11.82, 14.73, 18.0, 21.64, 25.64, 30.0)\n",
      "2.86305685699\n"
     ]
    },
    {
     "data": {
      "text/plain": [
       "2.73"
      ]
     },
     "execution_count": 141,
     "metadata": {},
     "output_type": "execute_result"
    }
   ],
   "source": [
    "stddevs.shape\n",
    "print(fwhm, apertures)\n",
    "median = np.median(np.add(np.take(fwhm, 1, axis=1), np.take(fwhm, 2, axis=1)))\n",
    "print(median)\n",
    "apertureidx = np.abs(apertures - median).argmin()\n",
    "apertures[apertureidx]"
   ]
  },
  {
   "cell_type": "code",
   "execution_count": 145,
   "metadata": {},
   "outputs": [
    {
     "name": "stdout",
     "output_type": "stream",
     "text": [
      "[ 8.07599213  7.94124478  8.77179126  6.41070855  6.55755265  7.99529924\n",
      "  8.04397651  7.42436746  6.61338003  7.48394928]\n"
     ]
    }
   ],
   "source": [
    "minstdev = np.argmin(stddevs[apertureidx], axis=0)\n",
    "print(stddevs[apertureidx][20:30])"
   ]
  },
  {
   "cell_type": "markdown",
   "metadata": {},
   "source": [
    "Get the sorted indices of the stddevs array"
   ]
  },
  {
   "cell_type": "code",
   "execution_count": 113,
   "metadata": {},
   "outputs": [
    {
     "name": "stdout",
     "output_type": "stream",
     "text": [
      "First 10 stdevs: [ 7.58103629  7.51508744  6.8347559   6.88465172  6.86567889  7.83426818\n",
      "  7.24437166  7.36583168  7.33178553         inf]\n",
      "After sorting: [ 6.35067433  6.40320983  6.49114998  6.56923676  6.60065941  6.61855825\n",
      "  6.65379407  6.79663206  6.8347559   6.86567889]\n",
      "Indices of first 10: [ 23 186  24  13 105  28  79 103   2   4]\n",
      "Sorted shape (12, 10000)\n"
     ]
    }
   ],
   "source": [
    "sorted = np.argsort(stddevs, axis=1)\n",
    "print(\"First 10 stdevs:\", stddevs[2][:10]) # print the first ten stdevs for aperture 2\n",
    "print(\"After sorting:\", stddevs[2][sorted[2]][:10])\n",
    "print(\"Indices of first 10:\", sorted[2][:10])\n",
    "print(\"Sorted shape\", sorted.shape)"
   ]
  },
  {
   "cell_type": "markdown",
   "metadata": {},
   "source": [
    "Get an aperture_x_top2stars array with real star refs"
   ]
  },
  {
   "cell_type": "code",
   "execution_count": 114,
   "metadata": {},
   "outputs": [
    {
     "name": "stdout",
     "output_type": "stream",
     "text": [
      "errors for idx 0 [ 0.00258881  0.00318956  0.00297433  0.0027377   0.00261956  0.02225548\n",
      "  0.00314212  0.00330848  0.0027464 ]\n",
      "errors for idx 1 [ 0.00245792  0.00311184  0.00282621  0.00263423  0.00257564  0.02373302\n",
      "  0.00302947  0.00319213  0.00262958]\n",
      "errors for idx 2 [ 0.00256711  0.00336993  0.0029816   0.00282526  0.00281358  0.02935767\n",
      "  0.00323725  0.00344515  0.00281441]\n",
      "errors for idx 3 [ 0.00193906  0.00194508  0.00229126  0.00214314  0.00206089  0.0385676\n",
      "  0.00190884  0.002042    0.06980437]\n",
      "errors for idx 4 [ 0.00228232  0.00229871  0.00278032  0.00258583  0.00247866  0.00683767\n",
      "  0.00224137  0.00243729  0.01091009]\n",
      "errors for idx 5 [ 0.00278741  0.0028165   0.00348854  0.00322008  0.00308126  0.0029875\n",
      "  0.00273341  0.00301433  0.0041787 ]\n",
      "errors for idx 6 [ 0.00102788  0.0019899   0.00103486  0.00114101  0.00125688  0.00157976\n",
      "  0.00169611  0.00165188  0.00118232]\n",
      "errors for idx 7 [ 0.00114197  0.00136083  0.00122684  0.00133932  0.00149     0.00126565\n",
      "  0.00130105  0.00133324  0.00138539]\n",
      "errors for idx 8 [ 0.00137138  0.00161105  0.00149733  0.00163615  0.00184202  0.00150764\n",
      "  0.00155377  0.00159907  0.00170553]\n",
      "errors for idx 9 [ 0.00165641  0.00197124  0.00183243  0.00201362  0.00227988  0.0018453\n",
      "  0.00189704  0.0019632   0.00210333]\n",
      "errors for idx 10 [ 0.00165915  0.00197554  0.00183618  0.00201821  0.00228447  0.00184894\n",
      "  0.00189978  0.00196713  0.00210744]\n",
      "errors for idx 11 [ 0.00165915  0.00197554  0.00183618  0.00201821  0.00228447  0.00184894\n",
      "  0.00189978  0.00196713  0.00210744]\n",
      "Printing aperture 0 of compstars: [[ 12.52233499  12.85204142  12.71846634  12.58475965  12.45489293\n",
      "   15.47262734  12.86350638  12.90649986  12.54384691]\n",
      " [ 14.08173478  11.60985851  14.25999278  14.12448031  13.97835702\n",
      "   11.73082304  11.65012056  11.69719118  14.08104336]]\n",
      "Printing aperture 8 of compstars: [[  9.88585204   9.96675599   9.91328126   9.97452074  10.00622994\n",
      "    9.88542223   9.93451923   9.92961937   9.91691095]\n",
      " [  9.90131891  10.00635386   9.91641861   9.9968906   10.01186204\n",
      "    9.88170654   9.94884789   9.94291973   9.92265648]]\n"
     ]
    }
   ],
   "source": [
    "#print(collect[0,0])\n",
    "compstars = np.empty([len(collect), 2, len(collect[0][0])], dtype=float)\n",
    "for idx, entry in enumerate(collect):\n",
    "    compstars[idx][0] = np.take(entry[sorted[idx][0]], 0, axis=1)\n",
    "    print(\"errors for idx\", idx, np.take(entry[sorted[idx][0]], 1, axis=1))\n",
    "    compstars[idx][1] = np.take(entry[sorted[idx][1]], 0, axis=1)\n",
    "print(\"Printing aperture 0 of compstars:\", compstars[0])\n",
    "print(\"Printing aperture 8 of compstars:\", compstars[9])"
   ]
  },
  {
   "cell_type": "markdown",
   "metadata": {},
   "source": [
    "Subtract the mags of those two stars from each other and calculate the stdev"
   ]
  },
  {
   "cell_type": "code",
   "execution_count": 115,
   "metadata": {},
   "outputs": [
    {
     "name": "stdout",
     "output_type": "stream",
     "text": [
      "[ 1.83581324  1.83280803  1.83571961  1.30176727  1.69986771  1.21707783\n",
      "  0.41465502  0.05598075  0.90408689  0.01195658  0.01173647  0.01173647]\n"
     ]
    }
   ],
   "source": [
    "subtractstd = np.empty(len(collect))\n",
    "for idx, entry in enumerate(compstars):\n",
    "    subtractstd[idx] = np.subtract(entry[0], entry[1]).std()\n",
    "print(subtractstd)"
   ]
  },
  {
   "cell_type": "markdown",
   "metadata": {},
   "source": [
    "Select the aperture with the lowest stdev"
   ]
  },
  {
   "cell_type": "code",
   "execution_count": 116,
   "metadata": {},
   "outputs": [
    {
     "name": "stdout",
     "output_type": "stream",
     "text": [
      "(2.0, 2.73, 3.82, 5.27, 7.09, 9.27, 11.82, 14.73, 18.0, 21.64, 25.64, 30.0)\n"
     ]
    },
    {
     "data": {
      "image/png": "[encoded data removed]",
      "text/plain": [
       "<Figure size 576x396 with 1 Axes>"
      ]
     },
     "metadata": {},
     "output_type": "display_data"
    }
   ],
   "source": [
    "fig, ax = plt.subplots()\n",
    "print(apertures)\n",
    "plt.plot(subtractstd)\n",
    "# plt.scatter(range(len(compstars[0])), compstars[0])\n",
    "plt.show()"
   ]
  },
  {
   "cell_type": "code",
   "execution_count": 37,
   "metadata": {},
   "outputs": [
    {
     "name": "stdout",
     "output_type": "stream",
     "text": [
      "[[ 0.11607264  0.04600264  0.0407288 ]\n",
      " [ 0.85546058  0.70365786  0.47417383]\n",
      " [ 0.09783416  0.49161588  0.47347177]]\n",
      "[[2 1 0]\n",
      " [2 1 0]\n",
      " [0 2 1]]\n",
      "applied [ 0.0407288   0.04600264  0.11607264]\n"
     ]
    }
   ],
   "source": [
    "\n",
    "test = np.random.rand(3, 3)\n",
    "subject = test\n",
    "# print(stddevs)\n",
    "# print(stddevs[1,0].min())\n",
    "sorted = np.argsort(subject, axis=1)\n",
    "print(subject)\n",
    "print(sorted)\n",
    "print(\"applied\", test[0][sorted[0]])"
   ]
  },
  {
   "cell_type": "code",
   "execution_count": 12,
   "metadata": {},
   "outputs": [
    {
     "data": {
      "text/plain": [
       "array([  4.76166477e+00,   4.65413553e+00,   5.01064970e+00,\n",
       "         4.14607846e+00,   5.27808387e+00,   5.09696797e+00,\n",
       "         4.18080412e+00,   5.16307689e+00,   4.71254001e+00,\n",
       "         4.68153759e+00,   5.10091282e+00,   4.34130026e+00,\n",
       "         4.47970076e+00,   5.16044259e+00,   4.23204906e+00,\n",
       "         4.76652468e+00,   4.89256446e+00,   4.57134776e+00,\n",
       "         5.46522519e+00,   5.48039085e+00,   5.44964247e+00,\n",
       "         5.00499378e+00,   5.89811436e+00,   4.63121171e+00,\n",
       "         5.06875464e+00,   5.18935299e+00,   5.34454165e+00,\n",
       "                    inf,   4.61428254e+00,   4.85134004e+00,\n",
       "         5.50101120e+00,   5.27145273e+00,   5.51334879e+00,\n",
       "         4.64270392e+00,   5.43526628e+00,   4.92881403e+00,\n",
       "         6.19589909e+00,              inf,   5.54538510e+00,\n",
       "         4.75619464e+00,   5.38821814e+00,   4.83009401e+00,\n",
       "         4.56410654e+00,   4.29658142e+00,   4.91905661e+08,\n",
       "         5.05702071e+00,   5.43582504e+00,   5.16073960e+00,\n",
       "         5.71211771e+00,   5.19243709e+00])"
      ]
     },
     "execution_count": 12,
     "metadata": {},
     "output_type": "execute_result"
    }
   ],
   "source": [
    "stddevs[2][:50]"
   ]
  },
  {
   "cell_type": "code",
   "execution_count": 14,
   "metadata": {},
   "outputs": [],
   "source": [
    "def get_fixed_compstars(star_descriptions=None):\n",
    "    if star_descriptions is None:\n",
    "        star_descriptions = do_calibration.get_star_descriptions(init.star_list)\n",
    "    result = []\n",
    "    star_catalog = do_calibration.create_star_descriptions_catalog(star_descriptions)\n",
    "    for ucac_id in init.comparison_stars:\n",
    "        df = do_calibration.get_ucac4_id(ucac_id)\n",
    "        star_id = do_calibration.get_starid_for_radec(df['RAJ2000'], df['DEJ2000'], star_catalog)\n",
    "        logging.debug(f\"Using fixed compstar '{ucac_id}' with Vmag: '{df['Vmag']}' and star id: {star_id}\")\n",
    "        result.append((star_id, df))\n",
    "    return result"
   ]
  },
  {
   "cell_type": "code",
   "execution_count": 15,
   "metadata": {},
   "outputs": [
    {
     "name": "stdout",
     "output_type": "stream",
     "text": [
      "Reading star descriptions for: range(1, 10001) with size 10000\n",
      "Creating star_descriptions star catalog with 10000 stars...\n",
      "Creating astropy Catalog with 10000 objects...\n",
      "Creating astropy Catalog with 1 objects...\n",
      "Creating astropy Catalog with 1 objects...\n"
     ]
    }
   ],
   "source": [
    "os.chdir('/home/jovyan/work/src')\n",
    "import init\n",
    "import logging\n",
    "os.chdir('/home/jovyan/work')\n",
    "result = get_fixed_compstars()"
   ]
  },
  {
   "cell_type": "code",
   "execution_count": 16,
   "metadata": {},
   "outputs": [
    {
     "data": {
      "text/plain": [
       "[(99,\n",
       "              UCAC4     RAJ2000    DEJ2000  ePos   f.mag  of  db  pmRA  pmDE  \\\n",
       "  29  b'231-154752'  271.234735 -43.845816    19  12.033   0   0  -2.1  -3.8   \n",
       "  \n",
       "        Jmag  ...    imag  H  A  b  h  Z  B  L  N  S  \n",
       "  29  11.103  ...  12.003  0  1  0  0  0  0  0  0  1  \n",
       "  \n",
       "  [1 rows x 24 columns]),\n",
       " (126,\n",
       "              UCAC4     RAJ2000    DEJ2000  ePos   f.mag  of  db  pmRA  pmDE  \\\n",
       "  30  b'232-147677'  271.280782 -43.777292    22  12.347   0   0   0.6   4.5   \n",
       "  \n",
       "        Jmag  ...    imag  H  A  b  h  Z  B  L  N  S  \n",
       "  30  11.512  ...  12.227  0  7  0  0  0  0  0  0  1  \n",
       "  \n",
       "  [1 rows x 24 columns])]"
      ]
     },
     "execution_count": 16,
     "metadata": {},
     "output_type": "execute_result"
    }
   ],
   "source": [
    "result"
   ]
  },
  {
   "cell_type": "code",
   "execution_count": 46,
   "metadata": {},
   "outputs": [
    {
     "name": "stdout",
     "output_type": "stream",
     "text": [
      "<class 'pandas.core.frame.DataFrame'>\n",
      "Int64Index: 1 entries, 29 to 29\n",
      "Data columns (total 24 columns):\n",
      "UCAC4      1 non-null object\n",
      "RAJ2000    1 non-null float64\n",
      "DEJ2000    1 non-null float64\n",
      "ePos       1 non-null int16\n",
      "f.mag      1 non-null float32\n",
      "of         1 non-null uint8\n",
      "db         1 non-null int16\n",
      "pmRA       1 non-null float64\n",
      "pmDE       1 non-null float64\n",
      "Jmag       1 non-null float32\n",
      "Kmag       1 non-null float32\n",
      "Bmag       1 non-null float32\n",
      "Vmag       1 non-null float32\n",
      "rmag       1 non-null float32\n",
      "imag       1 non-null float32\n",
      "H          1 non-null uint8\n",
      "A          1 non-null uint8\n",
      "b          1 non-null uint8\n",
      "h          1 non-null uint8\n",
      "Z          1 non-null uint8\n",
      "B          1 non-null uint8\n",
      "L          1 non-null uint8\n",
      "N          1 non-null uint8\n",
      "S          1 non-null uint8\n",
      "dtypes: float32(7), float64(4), int16(2), object(1), uint8(10)\n",
      "memory usage: 170.0+ bytes\n"
     ]
    }
   ],
   "source": [
    "vmag = result[0][1]\n",
    "vmag.info()"
   ]
  },
  {
   "cell_type": "code",
   "execution_count": 37,
   "metadata": {},
   "outputs": [
    {
     "data": {
      "text/plain": [
       "12.107"
      ]
     },
     "execution_count": 37,
     "metadata": {},
     "output_type": "execute_result"
    }
   ],
   "source": [
    "vmag.iloc(0)[0]"
   ]
  },
  {
   "cell_type": "code",
   "execution_count": 6,
   "metadata": {},
   "outputs": [],
   "source": [
    "listy = do_calibration.get_random_star_descriptions()"
   ]
  },
  {
   "cell_type": "code",
   "execution_count": 12,
   "metadata": {},
   "outputs": [
    {
     "name": "stdout",
     "output_type": "stream",
     "text": [
      "[StarDescription(999,None,<SkyCoord (ICRS): (ra, dec) in deg\n",
      "    ( 0.,  0.)>,None,[]), StarDescription(1,None,<SkyCoord (ICRS): (ra, dec) in deg\n",
      "    ( 1.,  1.)>,None,[]), StarDescription(2,None,<SkyCoord (ICRS): (ra, dec) in deg\n",
      "    ( 2.,  2.)>,None,[]), StarDescription(3,None,<SkyCoord (ICRS): (ra, dec) in deg\n",
      "    ( 3.,  3.)>,None,[]), StarDescription(4,None,<SkyCoord (ICRS): (ra, dec) in deg\n",
      "    ( 4.,  4.)>,None,[]), StarDescription(5,None,<SkyCoord (ICRS): (ra, dec) in deg\n",
      "    ( 5.,  5.)>,None,[]), StarDescription(6,None,<SkyCoord (ICRS): (ra, dec) in deg\n",
      "    ( 6.,  6.)>,None,[]), StarDescription(7,None,<SkyCoord (ICRS): (ra, dec) in deg\n",
      "    ( 7.,  7.)>,None,[]), StarDescription(8,None,<SkyCoord (ICRS): (ra, dec) in deg\n",
      "    ( 8.,  8.)>,None,[]), StarDescription(9,None,<SkyCoord (ICRS): (ra, dec) in deg\n",
      "    ( 9.,  9.)>,None,[])]\n"
     ]
    }
   ],
   "source": [
    "ltwo = filter(lambda x: x.local_id % 2 ==0, listy)\n",
    "ltwolist = list(ltwo)\n",
    "ltwolist[0].local_id = 999\n",
    "print(listy)"
   ]
  },
  {
   "cell_type": "code",
   "execution_count": 13,
   "metadata": {},
   "outputs": [],
   "source": [
    "class Settings:\n",
    "    def __init__(self, datadir):\n",
    "        # star id given by munipack\n",
    "        self.datadir = datadir\n",
    "\n",
    "a = Settings('bla')"
   ]
  },
  {
   "cell_type": "code",
   "execution_count": 15,
   "metadata": {},
   "outputs": [
    {
     "data": {
      "text/plain": [
       "'bla'"
      ]
     },
     "execution_count": 15,
     "metadata": {},
     "output_type": "execute_result"
    }
   ],
   "source": [
    "a.datadir"
   ]
  },
  {
   "cell_type": "code",
   "execution_count": 9,
   "metadata": {},
   "outputs": [],
   "source": [
    "import init_loader as init"
   ]
  },
  {
   "cell_type": "code",
   "execution_count": 12,
   "metadata": {},
   "outputs": [
    {
     "name": "stdout",
     "output_type": "stream",
     "text": [
      "None\n"
     ]
    }
   ],
   "source": [
    "print(init.settings)"
   ]
  },
  {
   "cell_type": "code",
   "execution_count": null,
   "metadata": {},
   "outputs": [],
   "source": []
  }
 ],
 "metadata": {
  "kernelspec": {
   "display_name": "Python 3",
   "language": "python",
   "name": "python3"
  },
  "language_info": {
   "codemirror_mode": {
    "name": "ipython",
    "version": 3
   },
   "file_extension": ".py",
   "mimetype": "text/x-python",
   "name": "python",
   "nbconvert_exporter": "python",
   "pygments_lexer": "ipython3",
   "version": "3.7.3"
  }
 },
 "nbformat": 4,
 "nbformat_minor": 4
}
